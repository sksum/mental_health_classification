{
  "nbformat": 4,
  "nbformat_minor": 0,
  "metadata": {
    "colab": {
      "provenance": []
    },
    "kernelspec": {
      "name": "python3",
      "display_name": "Python 3"
    },
    "language_info": {
      "name": "python"
    }
  },
  "cells": [
    {
      "cell_type": "code",
      "source": [
        "!cd '/content/drive/MyDrive/CAMS Dataset'"
      ],
      "metadata": {
        "id": "1X6-LCSvySYi"
      },
      "execution_count": null,
      "outputs": []
    },
    {
      "cell_type": "code",
      "source": [
        "!pip install transformers"
      ],
      "metadata": {
        "colab": {
          "base_uri": "https://localhost:8080/"
        },
        "id": "QjR9yvDdwrhI",
        "outputId": "9c13b21c-4191-4058-9c1e-140b9a15a89b"
      },
      "execution_count": null,
      "outputs": [
        {
          "output_type": "stream",
          "name": "stdout",
          "text": [
            "Looking in indexes: https://pypi.org/simple, https://us-python.pkg.dev/colab-wheels/public/simple/\n",
            "Requirement already satisfied: transformers in /usr/local/lib/python3.8/dist-packages (4.25.1)\n",
            "Requirement already satisfied: regex!=2019.12.17 in /usr/local/lib/python3.8/dist-packages (from transformers) (2022.6.2)\n",
            "Requirement already satisfied: numpy>=1.17 in /usr/local/lib/python3.8/dist-packages (from transformers) (1.21.6)\n",
            "Requirement already satisfied: requests in /usr/local/lib/python3.8/dist-packages (from transformers) (2.23.0)\n",
            "Requirement already satisfied: tokenizers!=0.11.3,<0.14,>=0.11.1 in /usr/local/lib/python3.8/dist-packages (from transformers) (0.13.2)\n",
            "Requirement already satisfied: huggingface-hub<1.0,>=0.10.0 in /usr/local/lib/python3.8/dist-packages (from transformers) (0.11.1)\n",
            "Requirement already satisfied: packaging>=20.0 in /usr/local/lib/python3.8/dist-packages (from transformers) (21.3)\n",
            "Requirement already satisfied: filelock in /usr/local/lib/python3.8/dist-packages (from transformers) (3.8.2)\n",
            "Requirement already satisfied: pyyaml>=5.1 in /usr/local/lib/python3.8/dist-packages (from transformers) (6.0)\n",
            "Requirement already satisfied: tqdm>=4.27 in /usr/local/lib/python3.8/dist-packages (from transformers) (4.64.1)\n",
            "Requirement already satisfied: typing-extensions>=3.7.4.3 in /usr/local/lib/python3.8/dist-packages (from huggingface-hub<1.0,>=0.10.0->transformers) (4.4.0)\n",
            "Requirement already satisfied: pyparsing!=3.0.5,>=2.0.2 in /usr/local/lib/python3.8/dist-packages (from packaging>=20.0->transformers) (3.0.9)\n",
            "Requirement already satisfied: certifi>=2017.4.17 in /usr/local/lib/python3.8/dist-packages (from requests->transformers) (2022.12.7)\n",
            "Requirement already satisfied: idna<3,>=2.5 in /usr/local/lib/python3.8/dist-packages (from requests->transformers) (2.10)\n",
            "Requirement already satisfied: urllib3!=1.25.0,!=1.25.1,<1.26,>=1.21.1 in /usr/local/lib/python3.8/dist-packages (from requests->transformers) (1.24.3)\n",
            "Requirement already satisfied: chardet<4,>=3.0.2 in /usr/local/lib/python3.8/dist-packages (from requests->transformers) (3.0.4)\n"
          ]
        }
      ]
    },
    {
      "cell_type": "code",
      "execution_count": null,
      "metadata": {
        "id": "6zDNQTJ9fmA3"
      },
      "outputs": [],
      "source": [
        "from transformers import AutoTokenizer, AutoModel\n",
        "import sys\n",
        "import csv\n",
        "import re\n",
        "import string\n",
        "import pickle\n",
        "from collections import defaultdict\n",
        "from nltk.corpus import stopwords\n",
        "from nltk import word_tokenize\n",
        "import matplotlib.pyplot as plt\n",
        "from sklearn.model_selection import train_test_split\n",
        "from sklearn.metrics import classification_report\n",
        "from sklearn.utils.class_weight import compute_class_weight\n",
        "import nltk\n",
        "from transformers import AdamW\n",
        "import torch\n",
        "import torch.nn as nn\n",
        "from torch.utils.data import TensorDataset, DataLoader, RandomSampler, SequentialSampler\n",
        "\n",
        "# STOPWORDS = set(stopwords.words('english'))\n",
        "from bs4 import BeautifulSoup\n",
        "import numpy as np\n",
        "import pandas as pd"
      ]
    },
    {
      "cell_type": "code",
      "source": [
        "tokenizer = AutoTokenizer.from_pretrained(\"mental/mental-bert-base-uncased\")\n",
        "model = AutoModel.from_pretrained(\"mental/mental-bert-base-uncased\")"
      ],
      "metadata": {
        "colab": {
          "base_uri": "https://localhost:8080/"
        },
        "id": "zs-mD5kBwNjJ",
        "outputId": "424cfec2-bb52-426c-fa8c-afd669c248a9"
      },
      "execution_count": null,
      "outputs": [
        {
          "output_type": "stream",
          "name": "stderr",
          "text": [
            "Some weights of the model checkpoint at mental/mental-bert-base-uncased were not used when initializing BertModel: ['cls.predictions.transform.dense.bias', 'cls.predictions.decoder.bias', 'cls.predictions.bias', 'cls.predictions.transform.LayerNorm.weight', 'cls.predictions.decoder.weight', 'cls.predictions.transform.dense.weight', 'cls.predictions.transform.LayerNorm.bias']\n",
            "- This IS expected if you are initializing BertModel from the checkpoint of a model trained on another task or with another architecture (e.g. initializing a BertForSequenceClassification model from a BertForPreTraining model).\n",
            "- This IS NOT expected if you are initializing BertModel from the checkpoint of a model that you expect to be exactly identical (initializing a BertForSequenceClassification model from a BertForSequenceClassification model).\n",
            "Some weights of BertModel were not initialized from the model checkpoint at mental/mental-bert-base-uncased and are newly initialized: ['bert.pooler.dense.weight', 'bert.pooler.dense.bias']\n",
            "You should probably TRAIN this model on a down-stream task to be able to use it for predictions and inference.\n"
          ]
        }
      ]
    },
    {
      "cell_type": "code",
      "source": [
        "##file paths\n",
        "PTH_TRAIN = '/content/drive/MyDrive/CAMS Dataset/IntentSDCNL_Training.csv'\n",
        "PTH_TEST = '/content/drive/MyDrive/CAMS Dataset/IntentSDCNL_Testing.csv'\n",
        "CAMS_DATASET = '/content/drive/MyDrive/CAMS Dataset/added_CAMS_data.csv'\n",
        "\n",
        "## Encoding Variable ##\n",
        "ENCODING = 'ISO-8859-1'\n"
      ],
      "metadata": {
        "id": "DATMtJUhw0xA"
      },
      "execution_count": null,
      "outputs": []
    },
    {
      "cell_type": "code",
      "source": [
        "train_file = pd.read_csv(PTH_TRAIN, encoding=ENCODING)\n",
        "test_file = pd.read_csv(PTH_TEST, encoding = ENCODING)"
      ],
      "metadata": {
        "id": "-qtFR78azDwB"
      },
      "execution_count": null,
      "outputs": []
    },
    {
      "cell_type": "code",
      "source": [
        "### TRAINING DATASET ###\n",
        "df_train = pd.DataFrame(train_file, columns = ['selftext', 'ANNOTATIONS'])\n",
        "df_train = df_train.rename(columns={'selftext': 'text','ANNOTATIONS':'label'})\n",
        "df_train= df_train.convert_dtypes()\n"
      ],
      "metadata": {
        "id": "hlIU0zFl3A0m"
      },
      "execution_count": null,
      "outputs": []
    },
    {
      "cell_type": "code",
      "source": [
        "### TESTING DATASET ###\n",
        "df_test = pd.DataFrame(test_file, columns = ['selftext', 'ANNOTATIONS'])\n",
        "df_test = df_test.rename(columns={'selftext': 'text','ANNOTATIONS':'label'})\n",
        "df_test= df_test.convert_dtypes()\n"
      ],
      "metadata": {
        "id": "gmqwjcz13ZD7"
      },
      "execution_count": null,
      "outputs": []
    },
    {
      "cell_type": "code",
      "source": [
        "print(\"Testing dataframe : \")\n",
        "print(df_test.info())\n",
        "print(\"Training dataframe : \")\n",
        "print(df_train.info())\n",
        "## Null values present in the training dataframe ###\n",
        "df_train.dropna(inplace = True)\n",
        "print(df_train.info())"
      ],
      "metadata": {
        "colab": {
          "base_uri": "https://localhost:8080/"
        },
        "id": "IrMNv05o5D1k",
        "outputId": "2a8fb8e6-8ce6-4137-e0df-c6209ef033bd"
      },
      "execution_count": null,
      "outputs": [
        {
          "output_type": "stream",
          "name": "stdout",
          "text": [
            "Testing dataframe : \n",
            "<class 'pandas.core.frame.DataFrame'>\n",
            "RangeIndex: 370 entries, 0 to 369\n",
            "Data columns (total 2 columns):\n",
            " #   Column  Non-Null Count  Dtype \n",
            "---  ------  --------------  ----- \n",
            " 0   text    370 non-null    string\n",
            " 1   label   370 non-null    Int64 \n",
            "dtypes: Int64(1), string(1)\n",
            "memory usage: 6.3 KB\n",
            "None\n",
            "Training dataframe : \n",
            "<class 'pandas.core.frame.DataFrame'>\n",
            "RangeIndex: 1461 entries, 0 to 1460\n",
            "Data columns (total 2 columns):\n",
            " #   Column  Non-Null Count  Dtype \n",
            "---  ------  --------------  ----- \n",
            " 0   text    1460 non-null   string\n",
            " 1   label   1458 non-null   Int64 \n",
            "dtypes: Int64(1), string(1)\n",
            "memory usage: 24.4 KB\n",
            "None\n",
            "<class 'pandas.core.frame.DataFrame'>\n",
            "Int64Index: 1457 entries, 0 to 1460\n",
            "Data columns (total 2 columns):\n",
            " #   Column  Non-Null Count  Dtype \n",
            "---  ------  --------------  ----- \n",
            " 0   text    1457 non-null   string\n",
            " 1   label   1457 non-null   Int64 \n",
            "dtypes: Int64(1), string(1)\n",
            "memory usage: 35.6 KB\n",
            "None\n"
          ]
        }
      ]
    },
    {
      "cell_type": "code",
      "source": [
        "print(\"Testing dataframe: \", df_test)\n",
        "print(\"Training dataframe: \", df_train)"
      ],
      "metadata": {
        "colab": {
          "base_uri": "https://localhost:8080/"
        },
        "id": "VdhG6Wrn7zxv",
        "outputId": "ce9eaef8-7143-49a1-d3dc-cd18ee99443c"
      },
      "execution_count": null,
      "outputs": [
        {
          "output_type": "stream",
          "name": "stdout",
          "text": [
            "Testing dataframe:                                                    text  label\n",
            "0    Indubitably, I am not worth anything as a bein...      1\n",
            "1    Almost everyday I wake up hating myself, why w...      5\n",
            "2                           To kill myself if im ugly?      1\n",
            "3    God help me.... I know I should go to the hosp...      1\n",
            "4    I really don't want to do anything anymore. Wh...      2\n",
            "..                                                 ...    ...\n",
            "365            i just don't wanna live anymore so yeah      0\n",
            "366  I've learned that life is fucking sad sometime...      5\n",
            "367  That's all. Nothing has gotten better and I've...      5\n",
            "368  Not the first time I'm going through this of c...      4\n",
            "369  Fight with my fiancÃÂ©e. Potential for her en...      4\n",
            "\n",
            "[370 rows x 2 columns]\n",
            "Training dataframe:                                                     text  label\n",
            "0     Hi I don't really know how to phrase this situ...      5\n",
            "1     i have been so depressed these past couple wee...      1\n",
            "2     Hi..I don't know where else to go. I am devast...      5\n",
            "3     The shit like Ã¢â¬Åit will get better, every...      0\n",
            "4     I wish I was prettier. I wish I didn't feel li...      1\n",
            "...                                                 ...    ...\n",
            "1456  I think of myself as a spiritual person. I als...      5\n",
            "1457  Every night it's Ã¢â¬Åyou guys want ice crea...      4\n",
            "1458  I would like to say that I was shook, but I kn...      3\n",
            "1459  I can't take this anymore. I've been wanting t...      2\n",
            "1460  I feel like people are controlling every aspec...      5\n",
            "\n",
            "[1457 rows x 2 columns]\n"
          ]
        }
      ]
    },
    {
      "cell_type": "markdown",
      "source": [
        "# EDA: TRAINING AND TESTING DATA\n"
      ],
      "metadata": {
        "id": "eDEtOnPck457"
      }
    },
    {
      "cell_type": "code",
      "source": [
        "###CLASS DISTRIBUTION OF THE TRAINING DATA ###\n",
        "fig, ax = plt.subplots(1, 1, figsize = (5, 5))\n",
        "df_train['label'].value_counts().plot.pie(autopct = '%1.1f%%')\n",
        "### Labels ###\n",
        "# 0 (No reason)\n",
        "# 1 (Bias and abuse)\n",
        "# 2 (Jobs and career)\n",
        "# 3 (Medication)\n",
        "# 4 (Relationship)\n",
        "# 5 (Alienation)\n",
        "print(\"Label counts for the training data :\", df_train['label'].value_counts())"
      ],
      "metadata": {
        "colab": {
          "base_uri": "https://localhost:8080/",
          "height": 425
        },
        "id": "BInM2Vvr5I2b",
        "outputId": "bb770d4f-f78d-4ddd-855c-2c96008fea0c"
      },
      "execution_count": null,
      "outputs": [
        {
          "output_type": "stream",
          "name": "stdout",
          "text": [
            "Label counts for the training data : 5    343\n",
            "4    294\n",
            "0    275\n",
            "1    190\n",
            "2    184\n",
            "3    171\n",
            "Name: label, dtype: Int64\n"
          ]
        },
        {
          "output_type": "display_data",
          "data": {
            "text/plain": [
              "<Figure size 360x360 with 1 Axes>"
            ],
            "image/png": "[encoded data removed]"
          },
          "metadata": {}
        }
      ]
    },
    {
      "cell_type": "code",
      "source": [
        "## CLASS DISTRIBUTION OF TESTING DATA ##\n",
        "fig, ax = plt.subplots(1, 1, figsize=(5,5))\n",
        "df_test['label'].value_counts().plot.pie(autopct = '%1.1f%%')\n",
        "print(\"Label counts for the testing data :\", df_test['label'].value_counts())"
      ],
      "metadata": {
        "colab": {
          "base_uri": "https://localhost:8080/",
          "height": 425
        },
        "id": "-ZgW3f8k6e9r",
        "outputId": "7823cd0e-1932-42ad-84f4-9d4b4db81997"
      },
      "execution_count": null,
      "outputs": [
        {
          "output_type": "stream",
          "name": "stdout",
          "text": [
            "Label counts for the testing data : 5    92\n",
            "4    91\n",
            "0    61\n",
            "2    48\n",
            "3    43\n",
            "1    35\n",
            "Name: label, dtype: Int64\n"
          ]
        },
        {
          "output_type": "display_data",
          "data": {
            "text/plain": [
              "<Figure size 360x360 with 1 Axes>"
            ],
            "image/png": "[encoded data removed]"
          },
          "metadata": {}
        }
      ]
    },
    {
      "cell_type": "code",
      "source": [
        "from collections import Counter\n",
        "from imblearn.pipeline import Pipeline, make_pipleline\n",
        "from sklearn.feature_extraction.text import CounterVectorizer\n",
        "from sklearn.feature_extraction.text import TfidfTransformer\n",
        "from imblearn.over_sampling import SMOTE\n",
        "X_train, X_test, y_train, y_test = train_test_split(df_train)"
      ],
      "metadata": {
        "id": "ObpqGjp43aPs"
      },
      "execution_count": null,
      "outputs": []
    },
    {
      "cell_type": "markdown",
      "source": [
        "# PREPROCESSING AND CLEANING"
      ],
      "metadata": {
        "id": "n0gi18_dlJU5"
      }
    },
    {
      "cell_type": "code",
      "source": [
        "### PREPROCESSING AND CLEANING ###\n",
        "nltk.download('stopwords')\n",
        "stops = set(stopwords.words('english'))\n",
        "print(stops)"
      ],
      "metadata": {
        "colab": {
          "base_uri": "https://localhost:8080/"
        },
        "id": "R4gySTWP7rMF",
        "outputId": "563fb819-949e-45a0-b85f-7a97dbb4ca4d"
      },
      "execution_count": null,
      "outputs": [
        {
          "output_type": "stream",
          "name": "stdout",
          "text": [
            "{'why', \"you're\", \"it's\", 'all', 'wasn', 'do', 'yourself', 'had', 'his', 'hasn', 'isn', 'or', \"mightn't\", 'being', 'y', 'than', \"needn't\", 'most', 'very', 've', 'that', 'now', 'o', 'i', 'so', \"doesn't\", 'doing', 'ourselves', \"that'll\", 'is', 'me', 'other', 'of', 'some', 'it', \"she's\", 'nor', 'by', 'those', 'and', 'been', 'after', 'will', 'my', 'who', 're', 'himself', 'against', 'at', 'its', 'both', 'over', 'has', \"aren't\", 'your', \"couldn't\", \"mustn't\", 'there', 'her', 'up', 'aren', \"haven't\", 'theirs', 'them', 'did', 'doesn', 'few', 'each', 'ma', 'myself', 'mightn', 'here', \"hasn't\", 'hers', 'no', 'down', 'own', 'what', 'd', \"shouldn't\", 'with', 'itself', 'this', 'further', \"hadn't\", \"shan't\", 'we', \"wasn't\", 'through', 'the', 'am', 'ours', 'more', 's', 'an', 'him', \"you've\", 'under', 'couldn', 'above', 'only', 'which', 'about', 'haven', 'they', \"won't\", 'if', 'don', \"weren't\", 'shan', 'a', 'll', 'on', 'how', 'weren', 'below', 'hadn', 'between', 'just', 'needn', \"wouldn't\", 'our', 'he', \"you'd\", 'you', 'but', 'once', 'were', \"isn't\", 'she', \"don't\", 'off', 'didn', 'won', 'are', 'not', 'herself', 'should', 'ain', 'yourselves', 'for', 'until', \"should've\", 'into', 'then', 'does', 'out', 'any', 'whom', 'have', 'too', 'such', 'was', 'because', 'again', 'be', 'while', 'same', 'yours', 'mustn', 'before', 'having', 'from', 'their', 'as', 'to', 'where', 'when', 't', \"didn't\", 'm', 'themselves', \"you'll\", 'shouldn', 'wouldn', 'these', 'can', 'during', 'in'}\n"
          ]
        },
        {
          "output_type": "stream",
          "name": "stderr",
          "text": [
            "[nltk_data] Downloading package stopwords to /root/nltk_data...\n",
            "[nltk_data]   Package stopwords is already up-to-date!\n"
          ]
        }
      ]
    },
    {
      "cell_type": "code",
      "source": [
        "def print_plot(df,index):\n",
        "    example = df[df.index == index+1][['text', 'label']].values[0]\n",
        "    if len(example) > 0:\n",
        "        print(example[0])\n",
        "        print('text:', example[1])\n",
        "# def get_stopwords():\n",
        "#     try:\n",
        "#         with open(PATH_STOPWORDS_TR, 'rb') as data_file:\n",
        "#             return pickle.load(data_file)\n",
        "#     except IOError as exc:\n",
        "#         raise IOError(\"No such stopwords file! Error: \" + str(exc))\n",
        "\n",
        "# def get_blacklist():\n",
        "#     try:\n",
        "#         with open(PATH_BLACKLIST_TR, 'rb') as data_file:\n",
        "#             return pickle.load(data_file)\n",
        "#     except IOError as exc:\n",
        "#         raise IOError(\"No such stopwords file! Error: \" + str(exc))\n",
        "\n",
        "def clean_stopwords(content):\n",
        "    # content: str\n",
        "    content = content.split(\" \")\n",
        "    filtered_list = []\n",
        "    # stopwords = get_stopwords()\n",
        "    for word in content:\n",
        "        if word not in stops:\n",
        "            filtered_list.append(word)\n",
        "\n",
        "    text = ' '.join(filtered_list)\n",
        "    return text\n",
        "\n",
        "# def clean_blacklist(content):\n",
        "#     # content: str\n",
        "#     # return: str\n",
        "#     content = content.split(\" \")\n",
        "#     filtered_list = []\n",
        "#     blacklist = get_blacklist()\n",
        "#     for word in content:\n",
        "#         if word not in blacklist:\n",
        "#             filtered_list.append(word)\n",
        "\n",
        "#     text = ' '.join(filtered_list)\n",
        "#     return text\n",
        "\n",
        "def clean_url(content):\n",
        "    #  content: str\n",
        "    #  return: str\n",
        "    reg_url = r'''(?i)\\b((?:https?://|www\\d{0,3}[.]|[a-z0-9.\\-]+[.][a-z]{2,4}/)(?:[^\\s()<>]+|\\(([^\\s()<>]+|(\\([^\\s()<>]+\\)))*\\))+(?:\\(([^\\s()<>]+|(\\([^\\s()<>]+\\)))*\\)|[^\\s`!()\\[\\]{};:'\".,<>?«»“”‘’]))'''\n",
        "    pattern_url = re.compile(reg_url)\n",
        "    content = pattern_url.sub('', content)\n",
        "    return content\n",
        "\n",
        "def clean_email(content):\n",
        "    reg_email = '\\S*@\\S*\\s?'\n",
        "    pattern_email = re.compile(reg_email)\n",
        "    content = pattern_email.sub('', content)\n",
        "    return content\n",
        "\n",
        "def clean_punctuation(content):\n",
        "    # regex = re.compile('[%s]' % re.escape(string.punctuation))\n",
        "    # content = regex.sub(\" \", content)\n",
        "    content = content.translate(content.maketrans(\"\", \"\", string.punctuation))\n",
        "    return content\n",
        "\n",
        "def clean_numbers(content):\n",
        "    remove_digits = str.maketrans('', '', string.digits)\n",
        "    text = content.translate(remove_digits)\n",
        "    return text\n",
        "\n",
        "def listToString(text):\n",
        "    #  text: string\n",
        "    #  return: string\n",
        "    str1 = \" \"\n",
        "    return (str1.join(text))\n",
        "  \n",
        "def clean_postfix(content):\n",
        "    #  content: list\n",
        "    #  return: str\n",
        "    spesific_punctation = [39, 8217]  # ascii codes of spesific punctations\n",
        "    all_words = defaultdict(list)\n",
        "    counter = 0\n",
        "    for i, word in enumerate(content):\n",
        "        if len(word) > 2:\n",
        "            if chr(8217) in word:\n",
        "                replaced_word = word.replace(chr(8217), \" \")  # clean for ’\n",
        "                replaced_word = replaced_word.split(\" \")[0]\n",
        "                all_words[i].append(replaced_word)\n",
        "            elif chr(39) in word:\n",
        "                replaced_word = word.replace(chr(39), \" \")  # clean for '\n",
        "                replaced_word = replaced_word.split(\" \")[0]\n",
        "                all_words[i].append(replaced_word)\n",
        "            else:\n",
        "                all_words[i].append(word)\n",
        "    all_words = sorted(all_words.items())\n",
        "\n",
        "    text = \"\"\n",
        "    for i in range(len(all_words)):\n",
        "        text = text + \" \" + all_words[i][1][0]\n",
        "\n",
        "    return text\n",
        "  \n",
        "# def clean_text(content):\n",
        "#     #  text: string\n",
        "#     #  return: string\n",
        "#     content = content.lower()\n",
        "#     cleaned_email = clean_email(content)\n",
        "#     cleaned_email_url = clean_url(cleaned_email)\n",
        "#     cleaned_email_url = listToString(cleaned_email_url.split(\".\"))\n",
        "#     cleaned_email_url = cleaned_email_url.split(\" \")\n",
        "#     cleaned_email_url_postfix = clean_postfix(cleaned_email_url)\n",
        "#     cleaned_email_url_postfix_punctuation = clean_punctuation(cleaned_email_url_postfix)\n",
        "#     cleaned_email_url_postfix_punctuation_numbers = clean_numbers(cleaned_email_url_postfix_punctuation)\n",
        "#     cleaned_email_url_postfix_punctuation_numbers_stopwords = clean_stopwords(\n",
        "#         cleaned_email_url_postfix_punctuation_numbers)\n",
        "#     # cleaned_email_url_postfix_punctuation_numbers_stopwords_blacklist = clean_blacklist(\n",
        "#         # cleaned_email_url_postfix_punctuation_numbers_stopwords)\n",
        "\n",
        "#     filtered_sentence = []\n",
        "#     for word in cleaned_email_url_postfix_punctuation_numbers_stopwords.split(\" \"):\n",
        "#         if len(word) > 2:\n",
        "#             filtered_sentence.append(word)\n",
        "\n",
        "#     text = ' '.join(filtered_sentence)\n",
        "#     return text\n",
        "def clean_text(text):\n",
        "    text = text.lower() \n",
        "    text = REPLACE_BY_SPACE_RE.sub(' ', text) \n",
        "    text = BAD_SYMBOLS_RE.sub('', text)     \n",
        "    text = text.replace('x', '')\n",
        "    text = ' '.join(word for word in text.split() if word not in STOPWORDS) # remove stopwors from text\n",
        "    return text"
      ],
      "metadata": {
        "id": "lHpGAoC6BH0M"
      },
      "execution_count": null,
      "outputs": []
    },
    {
      "cell_type": "code",
      "source": [
        "frame = [df_train, df_test]\n",
        "data = pd.concat(frame)\n",
        "data\n"
      ],
      "metadata": {
        "colab": {
          "base_uri": "https://localhost:8080/",
          "height": 424
        },
        "id": "CED1UVdzU4Ii",
        "outputId": "bfeeeea4-454a-40b9-d084-0a491c705c70"
      },
      "execution_count": null,
      "outputs": [
        {
          "output_type": "execute_result",
          "data": {
            "text/plain": [
              "                                                  text  label\n",
              "0    Hi I don't really know how to phrase this situ...      5\n",
              "1    i have been so depressed these past couple wee...      1\n",
              "2    Hi..I don't know where else to go. I am devast...      5\n",
              "3    The shit like Ã¢â¬Åit will get better, every...      0\n",
              "4    I wish I was prettier. I wish I didn't feel li...      1\n",
              "..                                                 ...    ...\n",
              "365            i just don't wanna live anymore so yeah      0\n",
              "366  I've learned that life is fucking sad sometime...      5\n",
              "367  That's all. Nothing has gotten better and I've...      5\n",
              "368  Not the first time I'm going through this of c...      4\n",
              "369  Fight with my fiancÃÂ©e. Potential for her en...      4\n",
              "\n",
              "[1827 rows x 2 columns]"
            ],
            "text/html": [
              "\n",
              "  <div id=\"df-ad54cc73-3d46-42b0-a378-4988b007d65c\">\n",
              "    <div class=\"colab-df-container\">\n",
              "      <div>\n",
              "<style scoped>\n",
              "    .dataframe tbody tr th:only-of-type {\n",
              "        vertical-align: middle;\n",
              "    }\n",
              "\n",
              "    .dataframe tbody tr th {\n",
              "        vertical-align: top;\n",
              "    }\n",
              "\n",
              "    .dataframe thead th {\n",
              "        text-align: right;\n",
              "    }\n",
              "</style>\n",
              "<table border=\"1\" class=\"dataframe\">\n",
              "  <thead>\n",
              "    <tr style=\"text-align: right;\">\n",
              "      <th></th>\n",
              "      <th>text</th>\n",
              "      <th>label</th>\n",
              "    </tr>\n",
              "  </thead>\n",
              "  <tbody>\n",
              "    <tr>\n",
              "      <th>0</th>\n",
              "      <td>Hi I don't really know how to phrase this situ...</td>\n",
              "      <td>5</td>\n",
              "    </tr>\n",
              "    <tr>\n",
              "      <th>1</th>\n",
              "      <td>i have been so depressed these past couple wee...</td>\n",
              "      <td>1</td>\n",
              "    </tr>\n",
              "    <tr>\n",
              "      <th>2</th>\n",
              "      <td>Hi..I don't know where else to go. I am devast...</td>\n",
              "      <td>5</td>\n",
              "    </tr>\n",
              "    <tr>\n",
              "      <th>3</th>\n",
              "      <td>The shit like Ã¢â¬Åit will get better, every...</td>\n",
              "      <td>0</td>\n",
              "    </tr>\n",
              "    <tr>\n",
              "      <th>4</th>\n",
              "      <td>I wish I was prettier. I wish I didn't feel li...</td>\n",
              "      <td>1</td>\n",
              "    </tr>\n",
              "    <tr>\n",
              "      <th>...</th>\n",
              "      <td>...</td>\n",
              "      <td>...</td>\n",
              "    </tr>\n",
              "    <tr>\n",
              "      <th>365</th>\n",
              "      <td>i just don't wanna live anymore so yeah</td>\n",
              "      <td>0</td>\n",
              "    </tr>\n",
              "    <tr>\n",
              "      <th>366</th>\n",
              "      <td>I've learned that life is fucking sad sometime...</td>\n",
              "      <td>5</td>\n",
              "    </tr>\n",
              "    <tr>\n",
              "      <th>367</th>\n",
              "      <td>That's all. Nothing has gotten better and I've...</td>\n",
              "      <td>5</td>\n",
              "    </tr>\n",
              "    <tr>\n",
              "      <th>368</th>\n",
              "      <td>Not the first time I'm going through this of c...</td>\n",
              "      <td>4</td>\n",
              "    </tr>\n",
              "    <tr>\n",
              "      <th>369</th>\n",
              "      <td>Fight with my fiancÃÂ©e. Potential for her en...</td>\n",
              "      <td>4</td>\n",
              "    </tr>\n",
              "  </tbody>\n",
              "</table>\n",
              "<p>1827 rows × 2 columns</p>\n",
              "</div>\n",
              "      <button class=\"colab-df-convert\" onclick=\"convertToInteractive('df-ad54cc73-3d46-42b0-a378-4988b007d65c')\"\n",
              "              title=\"Convert this dataframe to an interactive table.\"\n",
              "              style=\"display:none;\">\n",
              "        \n",
              "  <svg xmlns=\"http://www.w3.org/2000/svg\" height=\"24px\"viewBox=\"0 0 24 24\"\n",
              "       width=\"24px\">\n",
              "    <path d=\"M0 0h24v24H0V0z\" fill=\"none\"/>\n",
              "    <path d=\"M18.56 5.44l.94 2.06.94-2.06 2.06-.94-2.06-.94-.94-2.06-.94 2.06-2.06.94zm-11 1L8.5 8.5l.94-2.06 2.06-.94-2.06-.94L8.5 2.5l-.94 2.06-2.06.94zm10 10l.94 2.06.94-2.06 2.06-.94-2.06-.94-.94-2.06-.94 2.06-2.06.94z\"/><path d=\"M17.41 7.96l-1.37-1.37c-.4-.4-.92-.59-1.43-.59-.52 0-1.04.2-1.43.59L10.3 9.45l-7.72 7.72c-.78.78-.78 2.05 0 2.83L4 21.41c.39.39.9.59 1.41.59.51 0 1.02-.2 1.41-.59l7.78-7.78 2.81-2.81c.8-.78.8-2.07 0-2.86zM5.41 20L4 18.59l7.72-7.72 1.47 1.35L5.41 20z\"/>\n",
              "  </svg>\n",
              "      </button>\n",
              "      \n",
              "  <style>\n",
              "    .colab-df-container {\n",
              "      display:flex;\n",
              "      flex-wrap:wrap;\n",
              "      gap: 12px;\n",
              "    }\n",
              "\n",
              "    .colab-df-convert {\n",
              "      background-color: #E8F0FE;\n",
              "      border: none;\n",
              "      border-radius: 50%;\n",
              "      cursor: pointer;\n",
              "      display: none;\n",
              "      fill: #1967D2;\n",
              "      height: 32px;\n",
              "      padding: 0 0 0 0;\n",
              "      width: 32px;\n",
              "    }\n",
              "\n",
              "    .colab-df-convert:hover {\n",
              "      background-color: #E2EBFA;\n",
              "      box-shadow: 0px 1px 2px rgba(60, 64, 67, 0.3), 0px 1px 3px 1px rgba(60, 64, 67, 0.15);\n",
              "      fill: #174EA6;\n",
              "    }\n",
              "\n",
              "    [theme=dark] .colab-df-convert {\n",
              "      background-color: #3B4455;\n",
              "      fill: #D2E3FC;\n",
              "    }\n",
              "\n",
              "    [theme=dark] .colab-df-convert:hover {\n",
              "      background-color: #434B5C;\n",
              "      box-shadow: 0px 1px 3px 1px rgba(0, 0, 0, 0.15);\n",
              "      filter: drop-shadow(0px 1px 2px rgba(0, 0, 0, 0.3));\n",
              "      fill: #FFFFFF;\n",
              "    }\n",
              "  </style>\n",
              "\n",
              "      <script>\n",
              "        const buttonEl =\n",
              "          document.querySelector('#df-ad54cc73-3d46-42b0-a378-4988b007d65c button.colab-df-convert');\n",
              "        buttonEl.style.display =\n",
              "          google.colab.kernel.accessAllowed ? 'block' : 'none';\n",
              "\n",
              "        async function convertToInteractive(key) {\n",
              "          const element = document.querySelector('#df-ad54cc73-3d46-42b0-a378-4988b007d65c');\n",
              "          const dataTable =\n",
              "            await google.colab.kernel.invokeFunction('convertToInteractive',\n",
              "                                                     [key], {});\n",
              "          if (!dataTable) return;\n",
              "\n",
              "          const docLinkHtml = 'Like what you see? Visit the ' +\n",
              "            '<a target=\"_blank\" href=https://colab.research.google.com/notebooks/data_table.ipynb>data table notebook</a>'\n",
              "            + ' to learn more about interactive tables.';\n",
              "          element.innerHTML = '';\n",
              "          dataTable['output_type'] = 'display_data';\n",
              "          await google.colab.output.renderOutput(dataTable, element);\n",
              "          const docLink = document.createElement('div');\n",
              "          docLink.innerHTML = docLinkHtml;\n",
              "          element.appendChild(docLink);\n",
              "        }\n",
              "      </script>\n",
              "    </div>\n",
              "  </div>\n",
              "  "
            ]
          },
          "metadata": {},
          "execution_count": 57
        }
      ]
    },
    {
      "cell_type": "code",
      "source": [
        "print_plot(df_train, 0)"
      ],
      "metadata": {
        "colab": {
          "base_uri": "https://localhost:8080/"
        },
        "id": "7pCDn1IxZUzw",
        "outputId": "34364cec-260b-4af3-b01d-6d30bc84ae4c"
      },
      "execution_count": null,
      "outputs": [
        {
          "output_type": "stream",
          "name": "stdout",
          "text": [
            "i have been so depressed these past couple weeks ever since i got back from vacation normal life and reality has hit me and its terrible. im 19 i havent moved out yet i dont really have a sufficient job i have one but its not enough money for me to support myself. at least i have a car and im taking online classes so. i feel stuck in this stupid fucking town. empty and alone man i just want someone to love me dude but im ugly and fat and worthless and no one is ever going to see im worth the chance. its just one thing after another to worry about. why not end it now before i really fuck up and become miserable? i dont see the point in going on im just really down right now i dont know what to do )): all there is darkness idk how to get out of this hole i hate myself i hate my body i hate my life i dont think it will ever get better\n",
            "text: 1\n"
          ]
        }
      ]
    },
    {
      "cell_type": "code",
      "source": [
        "### Global variables ###\n",
        "max_nb_words = 60000\n",
        "max_features = 10543\n",
        "maxlen = 500\n",
        "emb_dim = 100\n",
        "max_seq_len = 267\n",
        "batch_size = 32\n",
        "\n",
        "REPLACE_BY_SPACE_RE = re.compile('[/(){}\\[\\]\\|@,;]')\n",
        "BAD_SYMBOLS_RE = re.compile('[^0-9a-z #+_]')\n",
        "STOPWORDS = set(stopwords.words('english'))"
      ],
      "metadata": {
        "id": "jD06lMOsZaFA"
      },
      "execution_count": null,
      "outputs": []
    },
    {
      "cell_type": "code",
      "source": [
        "print(df_train['text'][0])"
      ],
      "metadata": {
        "colab": {
          "base_uri": "https://localhost:8080/"
        },
        "id": "v-J_i8WrfFiU",
        "outputId": "c169186d-5cf6-4aa3-df07-4a0f16accd8c"
      },
      "execution_count": null,
      "outputs": [
        {
          "output_type": "stream",
          "name": "stdout",
          "text": [
            "Hi I don't really know how to phrase this situation but I'll try. My life is at a really good point right now, I'm never really depressed over stuff and 99 percent of the time my mind is clear. I'm about to graduate high school and I'm really excited. However, people in my family and friend group have tons of issues. Wether they sleep all day, hate themselves, or have no ambition to keep living on in this world, they've got problems. I don't wanna sound like I'm gloating, but usually I'm the person that a lot of these people end up going to because usually I'm able to talk people through issues and help them in the long run. Yeah sometimes their issues make me really sad and stuff because who doesn't feel sad when people are telling you they feel worthless.\n",
            "\n",
            "But today one of my best friends showed me that he was cutting and it really effected me. I talked to him about it and it's mostly because of how painfully \"bored\" he is and he doesn't even know why he's doing it (he's a pretty logical guy). He will go to class and just sit there for and hour most of the time doing nothing challenging because that's the way our school works. He has clinically diagnosed depression, has been to a psychiatric ward, and sees a therapist regularly. It's only been a couple hours since he showed me his arm, and I didn't even see all of it. \n",
            "\n",
            "I've got two main problems right now. First I don't really know how to help him. He said literally the only thing I can really do is just hang out with him after school and on the weekends so he doesn't just sit in bed all day. I've been trying to make an effort to do that as much as I can but I need to do more. He said himself that as long as he goes to highschool, and considering it's the law, he's going to feel this way until we graduate. I just need to know something I can do to help him, do I tell his parents? A therapist won't help he already goes to one. Should I talk to him more about it tomorrow. I just don't know\n",
            "\n",
            "Second, stuff like this is really effecting me. I just feel that the world is being unfair to everyone I care about and I just want everyone I love to feel better. As of lately I've been feeling depressed whenever my friends need to talk about issues and it's really weighing down on me. I just don't want to leave the people I care about down in the dirt. \n",
            "\n",
            "So yeah if anyone has any advice whatsoever please help me. Im normally able to deal with these feelings and help my friends but right now I'm struggling. Thank you Ã¢ÂÂ¤Ã¯Â¸Â\n"
          ]
        }
      ]
    },
    {
      "cell_type": "code",
      "source": [
        "print(df_train)"
      ],
      "metadata": {
        "colab": {
          "base_uri": "https://localhost:8080/"
        },
        "id": "XJlgSb7rf9ln",
        "outputId": "d78248aa-7a7b-4ccc-ee6c-49eab942287d"
      },
      "execution_count": null,
      "outputs": [
        {
          "output_type": "stream",
          "name": "stdout",
          "text": [
            "                                                   text  label\n",
            "0     Hi I don't really know how to phrase this situ...      5\n",
            "1     i have been so depressed these past couple wee...      1\n",
            "2     Hi..I don't know where else to go. I am devast...      5\n",
            "3     The shit like Ã¢â¬Åit will get better, every...      0\n",
            "4     I wish I was prettier. I wish I didn't feel li...      1\n",
            "...                                                 ...    ...\n",
            "1456  I think of myself as a spiritual person. I als...      5\n",
            "1457  Every night it's Ã¢â¬Åyou guys want ice crea...      4\n",
            "1458  I would like to say that I was shook, but I kn...      3\n",
            "1459  I can't take this anymore. I've been wanting t...      2\n",
            "1460  I feel like people are controlling every aspec...      5\n",
            "\n",
            "[1457 rows x 2 columns]\n"
          ]
        }
      ]
    },
    {
      "cell_type": "code",
      "source": [
        "print(clean_text(df_train['text'][0]))\n",
        "text = [clean_text(df_train['text'][0])]"
      ],
      "metadata": {
        "colab": {
          "base_uri": "https://localhost:8080/"
        },
        "id": "Ia_ryva4aDHF",
        "outputId": "52b41050-9375-4dbe-abd1-20eda45b2ad2"
      },
      "execution_count": null,
      "outputs": [
        {
          "output_type": "stream",
          "name": "stdout",
          "text": [
            "hi dont really know phrase situation ill try life really good point right im never really depressed stuff 99 percent time mind clear im graduate high school im really ecited however people family friend group tons issues wether sleep day hate ambition keep living world theyve got problems dont wanna sound like im gloating usually im person lot people end going usually im able talk people issues help long run yeah sometimes issues make really sad stuff doesnt feel sad people telling feel worthlessbut today one best friends showed cutting really effected talked mostly painfully bored doesnt even know hes hes pretty logical guy go class sit hour time nothing challenging thats way school works clinically diagnosed depression psychiatric ward sees therapist regularly couple hours since showed arm didnt even see ive got two main problems right first dont really know help said literally thing really hang school weekends doesnt sit bed day ive trying make effort much need said long goes highschool considering law hes going feel way graduate need know something help tell parents therapist wont help already goes one talk tomorrow dont knowsecond stuff like really effecting feel world unfair everyone care want everyone love feel better lately ive feeling depressed whenever friends need talk issues really weighing dont want leave people care dirt yeah anyone advice whatsoever please help im normally able deal feelings help friends right im struggling thank\n"
          ]
        }
      ]
    },
    {
      "cell_type": "code",
      "source": [
        "df_train = df_train.reset_index(drop = True)\n",
        "df_train['text'] = df_train['text'].apply(clean_text)\n",
        "print(df_train)"
      ],
      "metadata": {
        "colab": {
          "base_uri": "https://localhost:8080/"
        },
        "id": "Kbi2kd8Ofk1E",
        "outputId": "af21cfef-feec-404e-cdce-5042adf24f92"
      },
      "execution_count": null,
      "outputs": [
        {
          "output_type": "stream",
          "name": "stdout",
          "text": [
            "                                                   text  label\n",
            "0     hi dont really know phrase situation ill try l...      5\n",
            "1     depressed past couple weeks ever since got bac...      1\n",
            "2     hii dont know else go devastated right feeling...      5\n",
            "3     shit like get better everyone purpose need fin...      0\n",
            "4     wish prettier wish didnt feel like burden wish...      1\n",
            "...                                                 ...    ...\n",
            "1452  think spiritual person also think ever belongi...      5\n",
            "1453  every night guys want ice cream dinner everyon...      4\n",
            "1454  would like say shook knew habit consuming lot ...      3\n",
            "1455  cant take anymore ive wanting buy pocket pisto...      2\n",
            "1456  feel like people controlling every aspect life...      5\n",
            "\n",
            "[1457 rows x 2 columns]\n"
          ]
        }
      ]
    },
    {
      "cell_type": "code",
      "source": [
        "y_train = df_train['label']\n"
      ],
      "metadata": {
        "id": "SWg8tNGbwNXX"
      },
      "execution_count": null,
      "outputs": []
    },
    {
      "cell_type": "code",
      "source": [
        "sent_id = tokenizer.batch_encode_plus(text, padding=True, return_token_type_ids=False)"
      ],
      "metadata": {
        "id": "rqhDxmXWju04"
      },
      "execution_count": null,
      "outputs": []
    },
    {
      "cell_type": "code",
      "source": [
        "print(sent_id)"
      ],
      "metadata": {
        "colab": {
          "base_uri": "https://localhost:8080/"
        },
        "id": "z0vekXZ_kfXF",
        "outputId": "cd97cf32-f1ea-402c-aa4e-443d4ee623d4"
      },
      "execution_count": null,
      "outputs": [
        {
          "output_type": "stream",
          "name": "stdout",
          "text": [
            "{'input_ids': [[101, 7632, 2123, 2102, 2428, 2113, 7655, 3663, 5665, 3046, 2166, 2428, 2204, 2391, 2157, 10047, 2196, 2428, 14777, 4933, 5585, 3867, 2051, 2568, 3154, 10047, 4619, 2152, 2082, 10047, 2428, 14925, 17572, 2174, 2111, 2155, 2767, 2177, 6197, 3314, 4954, 5886, 3637, 2154, 5223, 16290, 2562, 2542, 2088, 2027, 3726, 2288, 3471, 2123, 2102, 10587, 2614, 2066, 10047, 1043, 4135, 5844, 2788, 10047, 2711, 2843, 2111, 2203, 2183, 2788, 10047, 2583, 2831, 2111, 3314, 2393, 2146, 2448, 3398, 2823, 3314, 2191, 2428, 6517, 4933, 2987, 2102, 2514, 6517, 2111, 4129, 2514, 22692, 8569, 2102, 2651, 2028, 2190, 2814, 3662, 6276, 2428, 3466, 2098, 5720, 3262, 16267, 11471, 2987, 2102, 2130, 2113, 2002, 2015, 2002, 2015, 3492, 11177, 3124, 2175, 2465, 4133, 3178, 2051, 2498, 10368, 2008, 2015, 2126, 2082, 2573, 6612, 2135, 11441, 6245, 13691, 4829, 5927, 19294, 5570, 3232, 2847, 2144, 3662, 2849, 2134, 2102, 2130, 2156, 4921, 2063, 2288, 2048, 2364, 3471, 2157, 2034, 2123, 2102, 2428, 2113, 2393, 2056, 6719, 2518, 2428, 6865, 2082, 13499, 2987, 2102, 4133, 2793, 2154, 4921, 2063, 2667, 2191, 3947, 2172, 2342, 2056, 2146, 3632, 26836, 9905, 4747, 6195, 2375, 2002, 2015, 2183, 2514, 2126, 4619, 2342, 2113, 2242, 2393, 2425, 3008, 19294, 2180, 2102, 2393, 2525, 3632, 2028, 2831, 4826, 2123, 2102, 4282, 8586, 15422, 4933, 2066, 2428, 3466, 2075, 2514, 2088, 15571, 3071, 2729, 2215, 3071, 2293, 2514, 2488, 9906, 4921, 2063, 3110, 14777, 7188, 2814, 2342, 2831, 3314, 2428, 15243, 2123, 2102, 2215, 2681, 2111, 2729, 6900, 3398, 3087, 6040, 18971, 3531, 2393, 10047, 5373, 2583, 3066, 5346, 2393, 2814, 2157, 10047, 8084, 4067, 102]], 'attention_mask': [[1, 1, 1, 1, 1, 1, 1, 1, 1, 1, 1, 1, 1, 1, 1, 1, 1, 1, 1, 1, 1, 1, 1, 1, 1, 1, 1, 1, 1, 1, 1, 1, 1, 1, 1, 1, 1, 1, 1, 1, 1, 1, 1, 1, 1, 1, 1, 1, 1, 1, 1, 1, 1, 1, 1, 1, 1, 1, 1, 1, 1, 1, 1, 1, 1, 1, 1, 1, 1, 1, 1, 1, 1, 1, 1, 1, 1, 1, 1, 1, 1, 1, 1, 1, 1, 1, 1, 1, 1, 1, 1, 1, 1, 1, 1, 1, 1, 1, 1, 1, 1, 1, 1, 1, 1, 1, 1, 1, 1, 1, 1, 1, 1, 1, 1, 1, 1, 1, 1, 1, 1, 1, 1, 1, 1, 1, 1, 1, 1, 1, 1, 1, 1, 1, 1, 1, 1, 1, 1, 1, 1, 1, 1, 1, 1, 1, 1, 1, 1, 1, 1, 1, 1, 1, 1, 1, 1, 1, 1, 1, 1, 1, 1, 1, 1, 1, 1, 1, 1, 1, 1, 1, 1, 1, 1, 1, 1, 1, 1, 1, 1, 1, 1, 1, 1, 1, 1, 1, 1, 1, 1, 1, 1, 1, 1, 1, 1, 1, 1, 1, 1, 1, 1, 1, 1, 1, 1, 1, 1, 1, 1, 1, 1, 1, 1, 1, 1, 1, 1, 1, 1, 1, 1, 1, 1, 1, 1, 1, 1, 1, 1, 1, 1, 1, 1, 1, 1, 1, 1, 1, 1, 1, 1, 1, 1, 1, 1, 1, 1, 1, 1, 1, 1, 1, 1, 1, 1, 1, 1, 1, 1, 1, 1, 1, 1, 1, 1]]}\n"
          ]
        }
      ]
    },
    {
      "cell_type": "markdown",
      "source": [
        "# Train Test Validation Split\n"
      ],
      "metadata": {
        "id": "ThrtGwtpko5_"
      }
    },
    {
      "cell_type": "code",
      "source": [
        "print(df_train.shape)\n",
        "print(df_test.shape)"
      ],
      "metadata": {
        "colab": {
          "base_uri": "https://localhost:8080/"
        },
        "id": "7j3Vynx3kh4b",
        "outputId": "dea2d973-ee15-474e-a1cf-e557f59159cb"
      },
      "execution_count": null,
      "outputs": [
        {
          "output_type": "stream",
          "name": "stdout",
          "text": [
            "(1457, 2)\n",
            "(370, 2)\n"
          ]
        }
      ]
    },
    {
      "cell_type": "code",
      "source": [
        "train_text, temp_text, train_labels, temp_labels = train_test_split(df_train['text'], df_train['label'], random_state = 2018, test_size = 0.3, stratify = df_train['label'])\n",
        "##temp text and temp labels too create a validation and test set ###\n",
        "val_text, test_text, val_labels, test_labels = train_test_split(temp_text, temp_labels, random_state = 2018, test_size = 0.5, stratify = temp_labels)"
      ],
      "metadata": {
        "id": "xF32S9lDle3C"
      },
      "execution_count": null,
      "outputs": []
    },
    {
      "cell_type": "code",
      "source": [
        "seq_len = [len(i.split()) for i in train_text]\n",
        "pd.Series(seq_len).hist(bins = 30)"
      ],
      "metadata": {
        "colab": {
          "base_uri": "https://localhost:8080/",
          "height": 282
        },
        "id": "KR7z9t2ipoq5",
        "outputId": "fa847358-7e02-4f39-edb2-8815716fb41d"
      },
      "execution_count": null,
      "outputs": [
        {
          "output_type": "execute_result",
          "data": {
            "text/plain": [
              "<matplotlib.axes._subplots.AxesSubplot at 0x7fe23495ff40>"
            ]
          },
          "metadata": {},
          "execution_count": 69
        },
        {
          "output_type": "display_data",
          "data": {
            "text/plain": [
              "<Figure size 432x288 with 1 Axes>"
            ],
            "image/png": "[encoded data removed]"
          },
          "metadata": {
            "needs_background": "light"
          }
        }
      ]
    },
    {
      "cell_type": "code",
      "source": [
        "tokens_train = tokenizer.batch_encode_plus(\n",
        "    train_text.tolist(),\n",
        "    max_length = max_seq_len,\n",
        "    pad_to_max_length = True,\n",
        "    truncation = True,\n",
        "    return_token_type_ids =False,\n",
        ")"
      ],
      "metadata": {
        "colab": {
          "base_uri": "https://localhost:8080/"
        },
        "id": "muzbJ9L8pzgO",
        "outputId": "91ede52e-d774-4b81-bde6-cd8b0913f22f"
      },
      "execution_count": null,
      "outputs": [
        {
          "output_type": "stream",
          "name": "stderr",
          "text": [
            "/usr/local/lib/python3.8/dist-packages/transformers/tokenization_utils_base.py:2336: FutureWarning: The `pad_to_max_length` argument is deprecated and will be removed in a future version, use `padding=True` or `padding='longest'` to pad to the longest sequence in the batch, or use `padding='max_length'` to pad to a max length. In this case, you can give a specific length with `max_length` (e.g. `max_length=45`) or leave max_length to None to pad to the maximal input size of the model (e.g. 512 for Bert).\n",
            "  warnings.warn(\n"
          ]
        }
      ]
    },
    {
      "cell_type": "code",
      "source": [
        "tokens_val = tokenizer.batch_encode_plus(\n",
        "    val_text.tolist(),\n",
        "    max_length = max_seq_len,\n",
        "    pad_to_max_length = True,\n",
        "    truncation = True,\n",
        "    return_token_type_ids =False,\n",
        ")\n",
        "tokens_test = tokenizer.batch_encode_plus(\n",
        "    test_text.tolist(),\n",
        "    max_length = max_seq_len,\n",
        "    pad_to_max_length=True,\n",
        "    truncation=True,\n",
        "    return_token_type_ids=False\n",
        ")"
      ],
      "metadata": {
        "id": "nydS2T05qc-k"
      },
      "execution_count": null,
      "outputs": []
    },
    {
      "cell_type": "code",
      "source": [
        "### Creating Tensors from the train, validation and test sequences ###\n",
        "# for train set\n",
        "train_seq = torch.tensor(tokens_train['input_ids'])\n",
        "train_mask = torch.tensor(tokens_train['attention_mask'])\n",
        "train_y = torch.tensor(train_labels.tolist())\n",
        "\n",
        "# for validation set\n",
        "val_seq = torch.tensor(tokens_val['input_ids'])\n",
        "val_mask = torch.tensor(tokens_val['attention_mask'])\n",
        "val_y = torch.tensor(val_labels.tolist())\n",
        "\n",
        "# for test set\n",
        "test_seq = torch.tensor(tokens_test['input_ids'])\n",
        "test_mask = torch.tensor(tokens_test['attention_mask'])\n",
        "test_y = torch.tensor(test_labels.tolist())"
      ],
      "metadata": {
        "id": "aaTW8_tZqwWE"
      },
      "execution_count": null,
      "outputs": []
    },
    {
      "cell_type": "markdown",
      "source": [
        "# Create DataLoaders"
      ],
      "metadata": {
        "id": "ee2I0w9NrwrQ"
      }
    },
    {
      "cell_type": "code",
      "source": [
        "train_data = TensorDataset(train_seq, train_mask, train_y)\n",
        "train_sampler = RandomSampler(train_data)\n",
        "trainloader = DataLoader(train_data, sampler = train_sampler, batch_size = batch_size)\n",
        "\n",
        "val_data = TensorDataset(val_seq, val_mask,val_y)\n",
        "val_sampler = SequentialSampler(val_data)\n",
        "valloader = DataLoader(val_data, sampler = val_sampler, batch_size = batch_size)"
      ],
      "metadata": {
        "id": "GXAhIG6Mq5OU"
      },
      "execution_count": null,
      "outputs": []
    },
    {
      "cell_type": "code",
      "source": [
        "for param in model.parameters():\n",
        "  param.requires_grad = False"
      ],
      "metadata": {
        "id": "Zu4Cq68Es0U0"
      },
      "execution_count": null,
      "outputs": []
    },
    {
      "cell_type": "markdown",
      "source": [
        "# Defining Model "
      ],
      "metadata": {
        "id": "4Fn7T5-Hsu8m"
      }
    },
    {
      "cell_type": "code",
      "source": [
        "class BERT_Model(nn.Module):\n",
        "  \n",
        "  def __init__(self, bert):\n",
        "    super(BERT_Model, self).__init__()\n",
        "    self.bert = bert\n",
        "    self.dropout = nn.Dropout(0.1)\n",
        "    self.relu = nn.ReLU()\n",
        "    self.fc1 = nn.Linear(768, 512)\n",
        "    self.fc2= nn.Linear(512, 6)\n",
        "    self.softmax = nn.Softmax(dim = 1)\n",
        "  def forward(self, sent_id, mask):\n",
        "    _, cls_hs = self.bert(sent_id, attention_mask = mask)\n",
        "    x = self.fc1(cls_hs)\n",
        "    x = self.relu(x)\n",
        "    x = self.dropout(x)\n",
        "    x = self.fc2(x)\n",
        "    x = self.softmax(x)\n",
        "\n",
        "    return x\n",
        "    "
      ],
      "metadata": {
        "id": "y0fepv75uU8F"
      },
      "execution_count": null,
      "outputs": []
    },
    {
      "cell_type": "code",
      "source": [
        "input_tensor_id = torch.tensor(sent_id['input_ids'])\n",
        "input_tensor_mask = torch.tensor(sent_id['attention_mask'])"
      ],
      "metadata": {
        "id": "oj9Rv1Gjic9l"
      },
      "execution_count": null,
      "outputs": []
    },
    {
      "cell_type": "code",
      "source": [
        "print(input_tensor_id.shape)\n",
        "print(input_tensor_mask.shape)"
      ],
      "metadata": {
        "colab": {
          "base_uri": "https://localhost:8080/"
        },
        "id": "WV4Bt8Q629mF",
        "outputId": "e8665e60-619a-4cab-c8c2-d57463958b35"
      },
      "execution_count": null,
      "outputs": [
        {
          "output_type": "stream",
          "name": "stdout",
          "text": [
            "torch.Size([1, 267])\n",
            "torch.Size([1, 267])\n"
          ]
        }
      ]
    },
    {
      "cell_type": "code",
      "source": [
        "m = BERT_Model(model)\n"
      ],
      "metadata": {
        "id": "7bYqmn6HLAR3"
      },
      "execution_count": null,
      "outputs": []
    },
    {
      "cell_type": "code",
      "source": [
        "## Verifying if output is 768 ##\n",
        "out = model(input_tensor_id, input_tensor_mask)\n",
        "# print(out.last_hidden_state.shape)\n"
      ],
      "metadata": {
        "id": "wKAZQMeXj20B"
      },
      "execution_count": null,
      "outputs": []
    },
    {
      "cell_type": "code",
      "source": [
        "out = out.last_hidden_state\n",
        "fc = nn.Linear(768, 512)\n",
        "out = fc(out)\n",
        "print(out)\n",
        "relu = torch.nn.ReLU()\n",
        "dropout = torch.nn.Dropout(0.1)\n",
        "out = relu(out)\n",
        "out = dropout(out)\n",
        "fc2 = nn.Linear(512, 6)\n",
        "out = fc2(out)\n",
        "softmax = torch.nn.Softmax(dim = 1)\n",
        "out = softmax(out)\n",
        "print(out.shape)"
      ],
      "metadata": {
        "colab": {
          "base_uri": "https://localhost:8080/"
        },
        "id": "RIE19hg8zDmc",
        "outputId": "108c22b3-87d3-480c-89bb-911cd7402560"
      },
      "execution_count": null,
      "outputs": [
        {
          "output_type": "stream",
          "name": "stdout",
          "text": [
            "tensor([[[-0.2618, -0.3090, -0.1609,  ..., -0.1223, -0.6025, -0.4164],\n",
            "         [-0.4361, -0.2296,  0.1003,  ...,  0.3898, -0.1940, -0.0676],\n",
            "         [-0.6203, -0.1478, -0.0380,  ..., -0.0294,  0.1356, -0.5093],\n",
            "         ...,\n",
            "         [-0.0169,  0.3348, -0.0547,  ...,  0.0029, -0.3441, -0.2892],\n",
            "         [-0.1927,  0.4461,  0.2751,  ...,  0.3058,  0.1004, -0.3453],\n",
            "         [-0.2784,  0.2368,  0.0730,  ...,  0.5895, -0.7389,  0.0535]]],\n",
            "       grad_fn=<ViewBackward0>)\n",
            "torch.Size([1, 267, 6])\n"
          ]
        }
      ]
    },
    {
      "cell_type": "code",
      "source": [
        "### Training variables ###\n",
        "optim = AdamW(m.parameters(), lr = 1e-3)\n",
        "weights = compute_class_weight(class_weight = 'balanced', classes = np.unique(train_labels), y = train_labels)\n",
        "weights = torch.tensor(weights, dtype = torch.float)\n",
        "lossfn = nn.NLLLoss(weight=weights)\n",
        "EPOCHS = 10"
      ],
      "metadata": {
        "id": "7A4ILtkzkHhN",
        "colab": {
          "base_uri": "https://localhost:8080/"
        },
        "outputId": "9909d065-2321-4fa4-d07a-2ff6455324c4"
      },
      "execution_count": null,
      "outputs": [
        {
          "output_type": "stream",
          "name": "stderr",
          "text": [
            "/usr/local/lib/python3.8/dist-packages/transformers/optimization.py:306: FutureWarning: This implementation of AdamW is deprecated and will be removed in a future version. Use the PyTorch implementation torch.optim.AdamW instead, or set `no_deprecation_warning=True` to disable this warning\n",
            "  warnings.warn(\n"
          ]
        }
      ]
    },
    {
      "cell_type": "markdown",
      "source": [
        "# Finetuning BERT"
      ],
      "metadata": {
        "id": "AUUF8b7js27k"
      }
    },
    {
      "cell_type": "code",
      "source": [
        "## Train function ##\n",
        "def train():\n",
        "  m.train()\n",
        "  total_loss, total_accuracy = 0. , 0.\n",
        "  total_preds = []\n",
        "\n",
        "  for step, batch in enumerate(trainloader):\n",
        "    if step % 50 == 0 and not step == 0:\n",
        "      print('  Batch {:>5,}  of  {:>5,}.'.format(step, len(trainloader)))\n",
        "\n",
        "    # print(batch)\n",
        "    sent_id, mask, labels = batch\n",
        "    m.zero_grad()\n",
        "    # print(sent_id)\n",
        "    # print(sent_id.shape)\n",
        "\n",
        "    # print(type(sent_id))\n",
        "    # print(mask)\n",
        "    # print(mask.shape)\n",
        "    # print(type(mask))\n",
        "    # print(labels)\n",
        "    # print(labels.shape)\n",
        "    preds = m(sent_id, mask)\n",
        "    # print(\"preds : \", preds)\n",
        "    preds = preds.pooler_output\n",
        "    # print(preds.pooler_output.shape)]\n",
        "    loss = lossfn(preds, labels)\n",
        "\n",
        "    total_loss += loss.item()\n",
        "    loss.backward()\n",
        "    torch.nn.utils.clip_grad_norm_(m.parameters(), 1.0)\n",
        "\n",
        "    optim.step()\n",
        "\n",
        "    total_preds.append(preds)\n",
        "\n",
        "  avg_loss = total_loss / len(trainloader)\n",
        "  total_preds  = np.concatenate(total_preds, axis=0)\n",
        "\n",
        "  #returns the loss and predictions\n",
        "  return avg_loss, total_preds"
      ],
      "metadata": {
        "id": "BJFMKTb0rng4"
      },
      "execution_count": null,
      "outputs": []
    },
    {
      "cell_type": "code",
      "source": [
        "## Eval function using valloader for evaluating the model ##\n",
        "def evaluate():\n",
        "  m.eval()\n",
        "\n",
        "  total_loss, total_accuracy = 0., 0.\n",
        "\n",
        "  total_preds = []\n",
        "\n",
        "  for step, batch in enumerate(valloader):\n",
        "    if step % 50 == 0 and not step == 0:\n",
        "      print('  Batch {:>5,}  of  {:>5,}.'.format(step, len(valloader)))\n",
        "    sent_id, mask, labels = batch\n",
        "    with torch.no_grad():\n",
        "      \n",
        "      # model predictions\n",
        "      preds = model(sent_id, mask)\n",
        "\n",
        "      # compute the validation loss between actual and predicted values\n",
        "      loss = lossfn(preds,labels)\n",
        "\n",
        "      total_loss = total_loss + loss.item()\n",
        "\n",
        "      preds = preds.detach().cpu().numpy()\n",
        "\n",
        "      total_preds.append(preds)\n",
        "  avg_loss = total_loss / len(valloader) \n",
        "\n",
        "  # reshape the predictions in form of (number of samples, no. of classes)\n",
        "  total_preds  = np.concatenate(total_preds, axis=0)\n",
        "\n",
        "  return avg_loss, total_preds"
      ],
      "metadata": {
        "id": "NkjYpSmdt8A2"
      },
      "execution_count": null,
      "outputs": []
    },
    {
      "cell_type": "code",
      "source": [
        "best_valid_loss = float('inf')\n",
        "\n",
        "train_losses = []\n",
        "valid_losses = []\n",
        "\n",
        "for epoch in range(EPOCHS):\n",
        "  print('\\n Epoch {:} / {:}'.format(epoch + 1, EPOCHS))\n",
        "    \n",
        "  #train model\n",
        "  train_loss, _ = train()\n",
        "    \n",
        "  #evaluate model\n",
        "  valid_loss, _ = evaluate()\n",
        "    \n",
        "  #save the best model\n",
        "  if valid_loss < best_valid_loss:\n",
        "      best_valid_loss = valid_loss\n",
        "      torch.save(m.state_dict(), 'saved_weights.pt')\n",
        "    \n",
        "  # append training and validation loss\n",
        "  train_losses.append(train_loss)\n",
        "  valid_losses.append(valid_loss)\n",
        "    \n",
        "  print(f'\\nTraining Loss: {train_loss:.3f}')\n",
        "  print(f'Validation Loss: {valid_loss:.3f}')"
      ],
      "metadata": {
        "id": "5XRQs-gQx3V5"
      },
      "execution_count": null,
      "outputs": []
    },
    {
      "cell_type": "code",
      "source": [],
      "metadata": {
        "id": "gatQ_O8NRkEa"
      },
      "execution_count": null,
      "outputs": []
    }
  ]
}