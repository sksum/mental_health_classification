{
  "cells": [
    {
      "cell_type": "code",
      "execution_count": null,
      "metadata": {
        "id": "6fed133d-61b7-4ce6-8a44-fe98acf0eed2"
      },
      "outputs": [],
      "source": [
        "%%capture\n",
        "!pip install transformers"
      ],
      "id": "6fed133d-61b7-4ce6-8a44-fe98acf0eed2"
    },
    {
      "cell_type": "code",
      "execution_count": null,
      "metadata": {
        "id": "2f3a8fd1-25a9-426d-a6be-c93b750cbcb8"
      },
      "outputs": [],
      "source": [
        "import pandas as pd\n",
        "import torch\n",
        "import numpy as np\n",
        "from transformers import BertTokenizer, BertModel\n",
        "from torch import nn\n",
        "from torch.optim import Adam\n",
        "from tqdm import tqdm\n",
        "from sklearn.metrics import classification_report\n"
      ],
      "id": "2f3a8fd1-25a9-426d-a6be-c93b750cbcb8"
    },
    {
      "cell_type": "code",
      "execution_count": null,
      "metadata": {
        "colab": {
          "base_uri": "https://localhost:8080/"
        },
        "id": "pIrhJX4xTYmk",
        "outputId": "bff420ea-96d7-4dcf-8e97-62c2b91952da"
      },
      "outputs": [
        {
          "name": "stdout",
          "output_type": "stream",
          "text": [
            "fatal: destination path 'CAMS' already exists and is not an empty directory.\n"
          ]
        }
      ],
      "source": [
        "!git clone https://github.com/drmuskangarg/CAMS.git"
      ],
      "id": "pIrhJX4xTYmk"
    },
    {
      "cell_type": "code",
      "execution_count": null,
      "metadata": {
        "id": "ghqQcrzdbQEK"
      },
      "outputs": [],
      "source": [
        "BATCH = 4"
      ],
      "id": "ghqQcrzdbQEK"
    },
    {
      "cell_type": "code",
      "execution_count": null,
      "metadata": {
        "colab": {
          "base_uri": "https://localhost:8080/",
          "height": 206
        },
        "id": "mW-9VACFO7eq",
        "outputId": "0085b5df-34e1-41c8-aa1a-c3370870b676"
      },
      "outputs": [
        {
          "data": {
            "text/html": [
              "\n",
              "  <div id=\"df-d6b081ce-4e1e-40ed-9571-a0154e0557d6\">\n",
              "    <div class=\"colab-df-container\">\n",
              "      <div>\n",
              "<style scoped>\n",
              "    .dataframe tbody tr th:only-of-type {\n",
              "        vertical-align: middle;\n",
              "    }\n",
              "\n",
              "    .dataframe tbody tr th {\n",
              "        vertical-align: top;\n",
              "    }\n",
              "\n",
              "    .dataframe thead th {\n",
              "        text-align: right;\n",
              "    }\n",
              "</style>\n",
              "<table border=\"1\" class=\"dataframe\">\n",
              "  <thead>\n",
              "    <tr style=\"text-align: right;\">\n",
              "      <th></th>\n",
              "      <th>text</th>\n",
              "      <th>category</th>\n",
              "    </tr>\n",
              "  </thead>\n",
              "  <tbody>\n",
              "    <tr>\n",
              "      <th>0</th>\n",
              "      <td>Hi I don't really know how to phrase this situ...</td>\n",
              "      <td>5.0</td>\n",
              "    </tr>\n",
              "    <tr>\n",
              "      <th>1</th>\n",
              "      <td>i have been so depressed these past couple wee...</td>\n",
              "      <td>1.0</td>\n",
              "    </tr>\n",
              "    <tr>\n",
              "      <th>2</th>\n",
              "      <td>Hi..I don't know where else to go. I am devast...</td>\n",
              "      <td>5.0</td>\n",
              "    </tr>\n",
              "    <tr>\n",
              "      <th>3</th>\n",
              "      <td>The shit like â€œit will get better, everyone ...</td>\n",
              "      <td>0.0</td>\n",
              "    </tr>\n",
              "    <tr>\n",
              "      <th>4</th>\n",
              "      <td>I wish I was prettier. I wish I didn't feel li...</td>\n",
              "      <td>1.0</td>\n",
              "    </tr>\n",
              "  </tbody>\n",
              "</table>\n",
              "</div>\n",
              "      <button class=\"colab-df-convert\" onclick=\"convertToInteractive('df-d6b081ce-4e1e-40ed-9571-a0154e0557d6')\"\n",
              "              title=\"Convert this dataframe to an interactive table.\"\n",
              "              style=\"display:none;\">\n",
              "        \n",
              "  <svg xmlns=\"http://www.w3.org/2000/svg\" height=\"24px\"viewBox=\"0 0 24 24\"\n",
              "       width=\"24px\">\n",
              "    <path d=\"M0 0h24v24H0V0z\" fill=\"none\"/>\n",
              "    <path d=\"M18.56 5.44l.94 2.06.94-2.06 2.06-.94-2.06-.94-.94-2.06-.94 2.06-2.06.94zm-11 1L8.5 8.5l.94-2.06 2.06-.94-2.06-.94L8.5 2.5l-.94 2.06-2.06.94zm10 10l.94 2.06.94-2.06 2.06-.94-2.06-.94-.94-2.06-.94 2.06-2.06.94z\"/><path d=\"M17.41 7.96l-1.37-1.37c-.4-.4-.92-.59-1.43-.59-.52 0-1.04.2-1.43.59L10.3 9.45l-7.72 7.72c-.78.78-.78 2.05 0 2.83L4 21.41c.39.39.9.59 1.41.59.51 0 1.02-.2 1.41-.59l7.78-7.78 2.81-2.81c.8-.78.8-2.07 0-2.86zM5.41 20L4 18.59l7.72-7.72 1.47 1.35L5.41 20z\"/>\n",
              "  </svg>\n",
              "      </button>\n",
              "      \n",
              "  <style>\n",
              "    .colab-df-container {\n",
              "      display:flex;\n",
              "      flex-wrap:wrap;\n",
              "      gap: 12px;\n",
              "    }\n",
              "\n",
              "    .colab-df-convert {\n",
              "      background-color: #E8F0FE;\n",
              "      border: none;\n",
              "      border-radius: 50%;\n",
              "      cursor: pointer;\n",
              "      display: none;\n",
              "      fill: #1967D2;\n",
              "      height: 32px;\n",
              "      padding: 0 0 0 0;\n",
              "      width: 32px;\n",
              "    }\n",
              "\n",
              "    .colab-df-convert:hover {\n",
              "      background-color: #E2EBFA;\n",
              "      box-shadow: 0px 1px 2px rgba(60, 64, 67, 0.3), 0px 1px 3px 1px rgba(60, 64, 67, 0.15);\n",
              "      fill: #174EA6;\n",
              "    }\n",
              "\n",
              "    [theme=dark] .colab-df-convert {\n",
              "      background-color: #3B4455;\n",
              "      fill: #D2E3FC;\n",
              "    }\n",
              "\n",
              "    [theme=dark] .colab-df-convert:hover {\n",
              "      background-color: #434B5C;\n",
              "      box-shadow: 0px 1px 3px 1px rgba(0, 0, 0, 0.15);\n",
              "      filter: drop-shadow(0px 1px 2px rgba(0, 0, 0, 0.3));\n",
              "      fill: #FFFFFF;\n",
              "    }\n",
              "  </style>\n",
              "\n",
              "      <script>\n",
              "        const buttonEl =\n",
              "          document.querySelector('#df-d6b081ce-4e1e-40ed-9571-a0154e0557d6 button.colab-df-convert');\n",
              "        buttonEl.style.display =\n",
              "          google.colab.kernel.accessAllowed ? 'block' : 'none';\n",
              "\n",
              "        async function convertToInteractive(key) {\n",
              "          const element = document.querySelector('#df-d6b081ce-4e1e-40ed-9571-a0154e0557d6');\n",
              "          const dataTable =\n",
              "            await google.colab.kernel.invokeFunction('convertToInteractive',\n",
              "                                                     [key], {});\n",
              "          if (!dataTable) return;\n",
              "\n",
              "          const docLinkHtml = 'Like what you see? Visit the ' +\n",
              "            '<a target=\"_blank\" href=https://colab.research.google.com/notebooks/data_table.ipynb>data table notebook</a>'\n",
              "            + ' to learn more about interactive tables.';\n",
              "          element.innerHTML = '';\n",
              "          dataTable['output_type'] = 'display_data';\n",
              "          await google.colab.output.renderOutput(dataTable, element);\n",
              "          const docLink = document.createElement('div');\n",
              "          docLink.innerHTML = docLinkHtml;\n",
              "          element.appendChild(docLink);\n",
              "        }\n",
              "      </script>\n",
              "    </div>\n",
              "  </div>\n",
              "  "
            ],
            "text/plain": [
              "                                                text  category\n",
              "0  Hi I don't really know how to phrase this situ...       5.0\n",
              "1  i have been so depressed these past couple wee...       1.0\n",
              "2  Hi..I don't know where else to go. I am devast...       5.0\n",
              "3  The shit like â€œit will get better, everyone ...       0.0\n",
              "4  I wish I was prettier. I wish I didn't feel li...       1.0"
            ]
          },
          "execution_count": 51,
          "metadata": {},
          "output_type": "execute_result"
        }
      ],
      "source": [
        "a_ = f'./CAMS/CAMS/data/IntentSDCNL_Testing.csv'\n",
        "b_ = f'./CAMS/CAMS/data/IntentSDCNL_Training.csv'\n",
        "df = pd.read_csv(b_, usecols=['selftext', 'ANNOTATIONS']).rename(columns={'selftext': 'text', 'ANNOTATIONS': 'category'})\n",
        "df_test = pd.read_csv(a_, usecols=['selftext', 'ANNOTATIONS']).rename(columns={'selftext': 'text', 'ANNOTATIONS': 'category'})\n",
        "df.head()"
      ],
      "id": "mW-9VACFO7eq"
    },
    {
      "cell_type": "code",
      "execution_count": null,
      "metadata": {
        "id": "HKhgk8lVW0la"
      },
      "outputs": [],
      "source": [
        "df = df.dropna().reset_index(drop=True)"
      ],
      "id": "HKhgk8lVW0la"
    },
    {
      "cell_type": "code",
      "execution_count": null,
      "metadata": {
        "colab": {
          "base_uri": "https://localhost:8080/",
          "height": 303
        },
        "id": "ab965eff-e1eb-416f-b80c-850554d8026c",
        "outputId": "e20c169d-252e-4cc7-809b-e8fe64c83deb"
      },
      "outputs": [
        {
          "data": {
            "text/plain": [
              "<matplotlib.axes._subplots.AxesSubplot at 0x7f230c6e3d10>"
            ]
          },
          "execution_count": 53,
          "metadata": {},
          "output_type": "execute_result"
        },
        {
          "data": {
            "image/png": "[encoded data removed]",
            "text/plain": [
              "<Figure size 432x288 with 1 Axes>"
            ]
          },
          "metadata": {},
          "output_type": "display_data"
        }
      ],
      "source": [
        "df.groupby(['category']).size().plot.bar()"
      ],
      "id": "ab965eff-e1eb-416f-b80c-850554d8026c"
    },
    {
      "cell_type": "code",
      "execution_count": null,
      "metadata": {
        "colab": {
          "base_uri": "https://localhost:8080/"
        },
        "id": "LLF_tdOJWBt9",
        "outputId": "4d59659f-43bf-4e60-e32f-b73b5b65dbbd"
      },
      "outputs": [
        {
          "data": {
            "text/plain": [
              "Int64Index([], dtype='int64')"
            ]
          },
          "execution_count": 54,
          "metadata": {},
          "output_type": "execute_result"
        }
      ],
      "source": [
        "df['category'].index[df['category'].apply(np.isnan)]"
      ],
      "id": "LLF_tdOJWBt9"
    },
    {
      "cell_type": "code",
      "execution_count": null,
      "metadata": {
        "id": "5074c270-ed3e-4e1a-863d-71737c743cb8"
      },
      "outputs": [],
      "source": [
        "tokenizer = BertTokenizer.from_pretrained('bert-base-cased')\n",
        "labels = {0.0:0,\n",
        "          1.0:1,\n",
        "          2.0:2,\n",
        "          3.0:3,\n",
        "          4.0:4,\n",
        "          5.0:5\n",
        "          }\n",
        "\n",
        "class Dataset(torch.utils.data.Dataset):\n",
        "\n",
        "    def __init__(self, df):\n",
        "        self.labels = [labels[label] for label in df['category']]\n",
        "        self.texts = [tokenizer(text, \n",
        "                               padding='max_length', max_length = 512, truncation=True,\n",
        "                                return_tensors=\"pt\") for text in df['text']]\n",
        "\n",
        "    def classes(self):\n",
        "        return self.labels\n",
        "\n",
        "    def __len__(self):\n",
        "        return len(self.labels)\n",
        "\n",
        "    def get_batch_labels(self, idx):\n",
        "        # Fetch a batch of labels\n",
        "        return np.array(self.labels[idx])\n",
        "\n",
        "    def get_batch_texts(self, idx):\n",
        "        # Fetch a batch of inputs\n",
        "        return self.texts[idx]\n",
        "\n",
        "    def __getitem__(self, idx):\n",
        "\n",
        "        batch_texts = self.get_batch_texts(idx)\n",
        "        batch_y = self.get_batch_labels(idx)\n",
        "\n",
        "        return batch_texts, batch_y"
      ],
      "id": "5074c270-ed3e-4e1a-863d-71737c743cb8"
    },
    {
      "cell_type": "code",
      "execution_count": null,
      "metadata": {
        "id": "0c8a5d0f-80c3-42b3-9f06-ecfc3a21f395"
      },
      "outputs": [],
      "source": [
        "class BertClassifier(nn.Module):\n",
        "\n",
        "    def __init__(self, dropout=0.5):\n",
        "\n",
        "        super(BertClassifier, self).__init__()\n",
        "\n",
        "        self.bert = BertModel.from_pretrained('bert-base-cased')\n",
        "        self.dropout = nn.Dropout(dropout)\n",
        "        self.linear = nn.Linear(768, 6)\n",
        "        self.relu = nn.ReLU()\n",
        "\n",
        "    def forward(self, input_id, mask):\n",
        "\n",
        "        _, pooled_output = self.bert(input_ids= input_id, attention_mask=mask,return_dict=False)\n",
        "        dropout_output = self.dropout(pooled_output)\n",
        "        linear_output = self.linear(dropout_output)\n",
        "        final_layer = self.relu(linear_output)\n",
        "\n",
        "        return final_layer"
      ],
      "id": "0c8a5d0f-80c3-42b3-9f06-ecfc3a21f395"
    },
    {
      "cell_type": "code",
      "execution_count": null,
      "metadata": {
        "id": "fa1f1cf7-65db-4966-9a55-ba26bd22ed6c"
      },
      "outputs": [],
      "source": [
        "def train(model, train_data, val_data, learning_rate, epochs):\n",
        "\n",
        "    train, val = Dataset(train_data), Dataset(val_data)\n",
        "\n",
        "    train_dataloader = torch.utils.data.DataLoader(train, batch_size=BATCH, shuffle=True)\n",
        "    val_dataloader = torch.utils.data.DataLoader(val, batch_size=BATCH)\n",
        "\n",
        "    use_cuda = torch.cuda.is_available()\n",
        "    device = torch.device(\"cuda\" if use_cuda else \"cpu\")\n",
        "\n",
        "    criterion = nn.CrossEntropyLoss()\n",
        "    optimizer = Adam(model.parameters(), lr= learning_rate)\n",
        "\n",
        "    if use_cuda:\n",
        "\n",
        "            model = model.cuda()\n",
        "            criterion = criterion.cuda()\n",
        "\n",
        "    for epoch_num in range(epochs):\n",
        "\n",
        "            total_acc_train = 0\n",
        "            total_loss_train = 0\n",
        "  \n",
        "            for train_input, train_label in tqdm(train_dataloader):\n",
        "\n",
        "                train_label = train_label.to(device)\n",
        "                mask = train_input['attention_mask'].to(device)\n",
        "                input_id = train_input['input_ids'].squeeze(1).to(device)\n",
        "\n",
        "                output = model(input_id, mask)\n",
        "                \n",
        "                batch_loss = criterion(output, train_label.long())\n",
        "                total_loss_train += batch_loss.item()\n",
        "                \n",
        "                acc = (output.argmax(dim=1) == train_label).sum().item()\n",
        "                total_acc_train += acc\n",
        "\n",
        "                model.zero_grad()\n",
        "                batch_loss.backward()\n",
        "                optimizer.step()\n",
        "            \n",
        "            total_acc_val = 0\n",
        "            total_loss_val = 0\n",
        "            final_out = []\n",
        "            final_lab = []\n",
        "            with torch.no_grad():\n",
        "\n",
        "                for val_input, val_label in val_dataloader:\n",
        "\n",
        "                    val_label = val_label.to(device)\n",
        "                    mask = val_input['attention_mask'].to(device)\n",
        "                    input_id = val_input['input_ids'].squeeze(1).to(device)\n",
        "\n",
        "                    output = model(input_id, mask)\n",
        "                    batch_loss = criterion(output, val_label.long())\n",
        "                    total_loss_val += batch_loss.item()\n",
        "                    \n",
        "                    acc = (output.argmax(dim=1) == val_label).sum().item()\n",
        "                    total_acc_val += acc\n",
        "                    output = output.argmax(dim=1)\n",
        "                    output = output.cpu().detach().numpy()\n",
        "                    val_label = val_label.cpu().detach().numpy()\n",
        "                    final_out.extend(list(output))\n",
        "                    final_lab.extend(list(val_label))\n",
        "                    # print(output.shape)\n",
        "                    # print(val_label.shape)\n",
        " \n",
        "\n",
        "            print (classification_report(final_lab, final_out))\n",
        "            print(\n",
        "                f'Epochs: {epoch_num + 1} | Train Loss: {total_loss_train / len(train_data): .3f} | Train Accuracy: {total_acc_train / len(train_data): .3f} | Val Loss: {total_loss_val / len(val_data): .3f} | Val Accuracy: {total_acc_val / len(val_data): .3f}')\n",
        "                  "
      ],
      "id": "fa1f1cf7-65db-4966-9a55-ba26bd22ed6c"
    },
    {
      "cell_type": "code",
      "execution_count": null,
      "metadata": {
        "id": "cd8a670d-c449-45fe-8f4c-9a5fb27855c1"
      },
      "outputs": [],
      "source": [
        "def evaluate(model, test_data):\n",
        "\n",
        "    test = Dataset(test_data)\n",
        "\n",
        "    test_dataloader = torch.utils.data.DataLoader(test, batch_size=BATCH)\n",
        "\n",
        "    use_cuda = torch.cuda.is_available()\n",
        "    device = torch.device(\"cuda\" if use_cuda else \"cpu\")\n",
        "\n",
        "    if use_cuda:\n",
        "\n",
        "        model = model.cuda()\n",
        "\n",
        "    total_acc_test = 0\n",
        "    truth = []\n",
        "    final_out = []\n",
        "    final_lab = []\n",
        "    with torch.no_grad():\n",
        "\n",
        "        for test_input, test_label in test_dataloader:\n",
        "\n",
        "              test_label = test_label.to(device)\n",
        "              mask = test_input['attention_mask'].to(device)\n",
        "              input_id = test_input['input_ids'].squeeze(1).to(device)\n",
        "\n",
        "              output = model(input_id, mask)\n",
        "\n",
        "              acc = (output.argmax(dim=1) == test_label).sum().item()\n",
        "              total_acc_test += acc\n",
        "              output = output.argmax(dim=1)\n",
        "              output = output.cpu().detach().numpy()\n",
        "              test_label = test_label.cpu().detach().numpy()\n",
        "              final_out.extend(list(output))\n",
        "              final_lab.extend(list(test_label))\n",
        "\n",
        "    print (classification_report(final_lab, final_out))\n",
        "    \n",
        "    print(f'Test Accuracy: {total_acc_test / len(test_data): .3f}')"
      ],
      "id": "cd8a670d-c449-45fe-8f4c-9a5fb27855c1"
    },
    {
      "cell_type": "code",
      "execution_count": null,
      "metadata": {
        "colab": {
          "base_uri": "https://localhost:8080/"
        },
        "id": "UnlicrxAVUhI",
        "outputId": "0815e016-db52-4add-ec44-47a686c29c2d"
      },
      "outputs": [
        {
          "data": {
            "text/plain": [
              "1457"
            ]
          },
          "execution_count": 59,
          "metadata": {},
          "output_type": "execute_result"
        }
      ],
      "source": [
        "len(df)"
      ],
      "id": "UnlicrxAVUhI"
    },
    {
      "cell_type": "code",
      "execution_count": null,
      "metadata": {
        "colab": {
          "base_uri": "https://localhost:8080/"
        },
        "id": "mVDHl0iQVGj-",
        "outputId": "234b5418-97b7-426d-9134-b5c47c52c54e"
      },
      "outputs": [
        {
          "name": "stdout",
          "output_type": "stream",
          "text": [
            "1165 292 370\n"
          ]
        }
      ],
      "source": [
        "np.random.seed(112)\n",
        "df_train, df_val = np.split(df.sample(frac=1, random_state=42), \n",
        "                                     [int(.8*len(df))])\n",
        "\n",
        "print(len(df_train),len(df_val), len(df_test))"
      ],
      "id": "mVDHl0iQVGj-"
    },
    {
      "cell_type": "code",
      "execution_count": null,
      "metadata": {
        "colab": {
          "base_uri": "https://localhost:8080/"
        },
        "id": "30242239-de70-4c03-8f56-9f5ade43518d",
        "outputId": "063b14b3-1762-4083-94af-3098326f4605"
      },
      "outputs": [
        {
          "output_type": "stream",
          "name": "stderr",
          "text": [
            "Some weights of the model checkpoint at bert-base-cased were not used when initializing BertModel: ['cls.predictions.transform.dense.bias', 'cls.predictions.transform.dense.weight', 'cls.predictions.transform.LayerNorm.weight', 'cls.seq_relationship.weight', 'cls.predictions.decoder.weight', 'cls.predictions.bias', 'cls.seq_relationship.bias', 'cls.predictions.transform.LayerNorm.bias']\n",
            "- This IS expected if you are initializing BertModel from the checkpoint of a model trained on another task or with another architecture (e.g. initializing a BertForSequenceClassification model from a BertForPreTraining model).\n",
            "- This IS NOT expected if you are initializing BertModel from the checkpoint of a model that you expect to be exactly identical (initializing a BertForSequenceClassification model from a BertForSequenceClassification model).\n",
            "100%|██████████| 292/292 [01:49<00:00,  2.67it/s]\n"
          ]
        },
        {
          "output_type": "stream",
          "name": "stdout",
          "text": [
            "              precision    recall  f1-score   support\n",
            "\n",
            "           0       0.30      0.45      0.36        58\n",
            "           1       0.25      0.03      0.05        35\n",
            "           2       0.00      0.00      0.00        34\n",
            "           3       0.06      0.15      0.08        27\n",
            "           4       0.28      0.42      0.34        73\n",
            "           5       0.24      0.08      0.12        65\n",
            "\n",
            "    accuracy                           0.23       292\n",
            "   macro avg       0.19      0.19      0.16       292\n",
            "weighted avg       0.22      0.23      0.20       292\n",
            "\n",
            "Epochs: 1 | Train Loss:  0.454 | Train Accuracy:  0.193 | Val Loss:  0.446 | Val Accuracy:  0.229\n"
          ]
        },
        {
          "output_type": "stream",
          "name": "stderr",
          "text": [
            "100%|██████████| 292/292 [01:46<00:00,  2.75it/s]\n",
            "/usr/local/lib/python3.7/dist-packages/sklearn/metrics/_classification.py:1318: UndefinedMetricWarning: Precision and F-score are ill-defined and being set to 0.0 in labels with no predicted samples. Use `zero_division` parameter to control this behavior.\n",
            "  _warn_prf(average, modifier, msg_start, len(result))\n",
            "/usr/local/lib/python3.7/dist-packages/sklearn/metrics/_classification.py:1318: UndefinedMetricWarning: Precision and F-score are ill-defined and being set to 0.0 in labels with no predicted samples. Use `zero_division` parameter to control this behavior.\n",
            "  _warn_prf(average, modifier, msg_start, len(result))\n",
            "/usr/local/lib/python3.7/dist-packages/sklearn/metrics/_classification.py:1318: UndefinedMetricWarning: Precision and F-score are ill-defined and being set to 0.0 in labels with no predicted samples. Use `zero_division` parameter to control this behavior.\n",
            "  _warn_prf(average, modifier, msg_start, len(result))\n"
          ]
        },
        {
          "output_type": "stream",
          "name": "stdout",
          "text": [
            "              precision    recall  f1-score   support\n",
            "\n",
            "           0       0.19      0.86      0.32        58\n",
            "           1       0.00      0.00      0.00        35\n",
            "           2       0.00      0.00      0.00        34\n",
            "           3       0.00      0.00      0.00        27\n",
            "           4       0.50      0.01      0.03        73\n",
            "           5       0.25      0.11      0.15        65\n",
            "\n",
            "    accuracy                           0.20       292\n",
            "   macro avg       0.16      0.16      0.08       292\n",
            "weighted avg       0.22      0.20      0.10       292\n",
            "\n",
            "Epochs: 2 | Train Loss:  0.448 | Train Accuracy:  0.167 | Val Loss:  0.448 | Val Accuracy:  0.199\n"
          ]
        },
        {
          "output_type": "stream",
          "name": "stderr",
          "text": [
            "100%|██████████| 292/292 [01:46<00:00,  2.74it/s]\n",
            "/usr/local/lib/python3.7/dist-packages/sklearn/metrics/_classification.py:1318: UndefinedMetricWarning: Precision and F-score are ill-defined and being set to 0.0 in labels with no predicted samples. Use `zero_division` parameter to control this behavior.\n",
            "  _warn_prf(average, modifier, msg_start, len(result))\n",
            "/usr/local/lib/python3.7/dist-packages/sklearn/metrics/_classification.py:1318: UndefinedMetricWarning: Precision and F-score are ill-defined and being set to 0.0 in labels with no predicted samples. Use `zero_division` parameter to control this behavior.\n",
            "  _warn_prf(average, modifier, msg_start, len(result))\n",
            "/usr/local/lib/python3.7/dist-packages/sklearn/metrics/_classification.py:1318: UndefinedMetricWarning: Precision and F-score are ill-defined and being set to 0.0 in labels with no predicted samples. Use `zero_division` parameter to control this behavior.\n",
            "  _warn_prf(average, modifier, msg_start, len(result))\n"
          ]
        },
        {
          "output_type": "stream",
          "name": "stdout",
          "text": [
            "              precision    recall  f1-score   support\n",
            "\n",
            "           0       0.19      0.33      0.24        58\n",
            "           1       0.00      0.00      0.00        35\n",
            "           2       0.00      0.00      0.00        34\n",
            "           3       0.33      0.04      0.07        27\n",
            "           4       0.43      0.04      0.07        73\n",
            "           5       0.21      0.57      0.30        65\n",
            "\n",
            "    accuracy                           0.21       292\n",
            "   macro avg       0.19      0.16      0.11       292\n",
            "weighted avg       0.22      0.21      0.14       292\n",
            "\n",
            "Epochs: 3 | Train Loss:  0.450 | Train Accuracy:  0.206 | Val Loss:  0.449 | Val Accuracy:  0.205\n"
          ]
        },
        {
          "output_type": "stream",
          "name": "stderr",
          "text": [
            "100%|██████████| 292/292 [01:45<00:00,  2.76it/s]\n",
            "/usr/local/lib/python3.7/dist-packages/sklearn/metrics/_classification.py:1318: UndefinedMetricWarning: Precision and F-score are ill-defined and being set to 0.0 in labels with no predicted samples. Use `zero_division` parameter to control this behavior.\n",
            "  _warn_prf(average, modifier, msg_start, len(result))\n",
            "/usr/local/lib/python3.7/dist-packages/sklearn/metrics/_classification.py:1318: UndefinedMetricWarning: Precision and F-score are ill-defined and being set to 0.0 in labels with no predicted samples. Use `zero_division` parameter to control this behavior.\n",
            "  _warn_prf(average, modifier, msg_start, len(result))\n",
            "/usr/local/lib/python3.7/dist-packages/sklearn/metrics/_classification.py:1318: UndefinedMetricWarning: Precision and F-score are ill-defined and being set to 0.0 in labels with no predicted samples. Use `zero_division` parameter to control this behavior.\n",
            "  _warn_prf(average, modifier, msg_start, len(result))\n"
          ]
        },
        {
          "output_type": "stream",
          "name": "stdout",
          "text": [
            "              precision    recall  f1-score   support\n",
            "\n",
            "           0       0.19      0.86      0.31        58\n",
            "           1       0.00      0.00      0.00        35\n",
            "           2       0.00      0.00      0.00        34\n",
            "           3       0.00      0.00      0.00        27\n",
            "           4       0.00      0.00      0.00        73\n",
            "           5       0.27      0.06      0.10        65\n",
            "\n",
            "    accuracy                           0.18       292\n",
            "   macro avg       0.08      0.15      0.07       292\n",
            "weighted avg       0.10      0.18      0.08       292\n",
            "\n",
            "Epochs: 4 | Train Loss:  0.450 | Train Accuracy:  0.192 | Val Loss:  0.449 | Val Accuracy:  0.185\n"
          ]
        },
        {
          "output_type": "stream",
          "name": "stderr",
          "text": [
            "100%|██████████| 292/292 [01:45<00:00,  2.78it/s]\n",
            "/usr/local/lib/python3.7/dist-packages/sklearn/metrics/_classification.py:1318: UndefinedMetricWarning: Precision and F-score are ill-defined and being set to 0.0 in labels with no predicted samples. Use `zero_division` parameter to control this behavior.\n",
            "  _warn_prf(average, modifier, msg_start, len(result))\n",
            "/usr/local/lib/python3.7/dist-packages/sklearn/metrics/_classification.py:1318: UndefinedMetricWarning: Precision and F-score are ill-defined and being set to 0.0 in labels with no predicted samples. Use `zero_division` parameter to control this behavior.\n",
            "  _warn_prf(average, modifier, msg_start, len(result))\n",
            "/usr/local/lib/python3.7/dist-packages/sklearn/metrics/_classification.py:1318: UndefinedMetricWarning: Precision and F-score are ill-defined and being set to 0.0 in labels with no predicted samples. Use `zero_division` parameter to control this behavior.\n",
            "  _warn_prf(average, modifier, msg_start, len(result))\n"
          ]
        },
        {
          "output_type": "stream",
          "name": "stdout",
          "text": [
            "              precision    recall  f1-score   support\n",
            "\n",
            "           0       0.20      0.79      0.33        58\n",
            "           1       0.00      0.00      0.00        35\n",
            "           2       0.00      0.00      0.00        34\n",
            "           3       0.09      0.11      0.10        27\n",
            "           4       0.33      0.01      0.03        73\n",
            "           5       0.24      0.11      0.15        65\n",
            "\n",
            "    accuracy                           0.20       292\n",
            "   macro avg       0.14      0.17      0.10       292\n",
            "weighted avg       0.19      0.20      0.11       292\n",
            "\n",
            "Epochs: 5 | Train Loss:  0.449 | Train Accuracy:  0.184 | Val Loss:  0.449 | Val Accuracy:  0.195\n"
          ]
        },
        {
          "output_type": "stream",
          "name": "stderr",
          "text": [
            "100%|██████████| 292/292 [01:44<00:00,  2.78it/s]\n"
          ]
        },
        {
          "output_type": "stream",
          "name": "stdout",
          "text": [
            "              precision    recall  f1-score   support\n",
            "\n",
            "           0       0.20      0.90      0.33        58\n",
            "           1       0.00      0.00      0.00        35\n",
            "           2       0.00      0.00      0.00        34\n",
            "           3       0.00      0.00      0.00        27\n",
            "           4       0.00      0.00      0.00        73\n",
            "           5       0.23      0.11      0.15        65\n",
            "\n",
            "    accuracy                           0.20       292\n",
            "   macro avg       0.07      0.17      0.08       292\n",
            "weighted avg       0.09      0.20      0.10       292\n",
            "\n",
            "Epochs: 6 | Train Loss:  0.450 | Train Accuracy:  0.192 | Val Loss:  0.448 | Val Accuracy:  0.202\n"
          ]
        },
        {
          "output_type": "stream",
          "name": "stderr",
          "text": [
            "/usr/local/lib/python3.7/dist-packages/sklearn/metrics/_classification.py:1318: UndefinedMetricWarning: Precision and F-score are ill-defined and being set to 0.0 in labels with no predicted samples. Use `zero_division` parameter to control this behavior.\n",
            "  _warn_prf(average, modifier, msg_start, len(result))\n",
            "/usr/local/lib/python3.7/dist-packages/sklearn/metrics/_classification.py:1318: UndefinedMetricWarning: Precision and F-score are ill-defined and being set to 0.0 in labels with no predicted samples. Use `zero_division` parameter to control this behavior.\n",
            "  _warn_prf(average, modifier, msg_start, len(result))\n",
            "/usr/local/lib/python3.7/dist-packages/sklearn/metrics/_classification.py:1318: UndefinedMetricWarning: Precision and F-score are ill-defined and being set to 0.0 in labels with no predicted samples. Use `zero_division` parameter to control this behavior.\n",
            "  _warn_prf(average, modifier, msg_start, len(result))\n"
          ]
        }
      ],
      "source": [
        "EPOCHS = 6\n",
        "model = BertClassifier()\n",
        "LR = 5e-5\n",
        "              \n",
        "train(model, df_train, df_val, LR, EPOCHS)"
      ],
      "id": "30242239-de70-4c03-8f56-9f5ade43518d"
    },
    {
      "cell_type": "code",
      "execution_count": null,
      "metadata": {
        "id": "ccc00f0a-9a15-4942-9c9b-2f9789c8dd22"
      },
      "outputs": [],
      "source": [
        "evaluate(model, df_test)"
      ],
      "id": "ccc00f0a-9a15-4942-9c9b-2f9789c8dd22"
    },
    {
      "cell_type": "markdown",
      "metadata": {
        "id": "6szz4b8twajw"
      },
      "source": [
        "CAMS to CAMS-HiEn\n"
      ],
      "id": "6szz4b8twajw"
    },
    {
      "cell_type": "code",
      "execution_count": null,
      "metadata": {
        "id": "PmUGAQLaAUiL"
      },
      "outputs": [],
      "source": [
        "from transformers import MBartForConditionalGeneration, MBartTokenizer\n",
        "\n",
        "tokenizer = MBartTokenizer.from_pretrained(\"facebook/mbart-large-en-hi\", src_lang=\"en_XX\", tgt_lang=\"hi_IN\")\n",
        "example_english_phrase = \"UN Chief Says There Is No Military Solution in Syria\"\n",
        "expected_translation_romanian = \"Şeful ONU declară că nu există o soluţie militară în Siria\"\n",
        "\n",
        "inputs = tokenizer([example_english_phrase, example_english_phrase], text_target=[expected_translation_romanian, expected_translation_romanian], return_tensors=\"pt\")\n",
        "\n",
        "model = MBartForConditionalGeneration.from_pretrained(\"facebook/mbart-large-en-ro\")\n",
        "# forward pass\n",
        "model(**inputs)"
      ],
      "id": "PmUGAQLaAUiL"
    },
    {
      "cell_type": "markdown",
      "metadata": {
        "id": "9pVeP4AGwQ_Q"
      },
      "source": [
        "Indic BERT Classification"
      ],
      "id": "9pVeP4AGwQ_Q"
    },
    {
      "cell_type": "code",
      "execution_count": null,
      "metadata": {
        "id": "UEAqQubHwQzB"
      },
      "outputs": [],
      "source": [],
      "id": "UEAqQubHwQzB"
    },
    {
      "cell_type": "code",
      "execution_count": null,
      "metadata": {
        "id": "hyZrK9LupLmr"
      },
      "outputs": [],
      "source": [],
      "id": "hyZrK9LupLmr"
    }
  ],
  "metadata": {
    "accelerator": "GPU",
    "colab": {
      "provenance": []
    },
    "gpuClass": "standard",
    "kernelspec": {
      "display_name": "Python 3",
      "language": "python",
      "name": "python3"
    },
    "language_info": {
      "codemirror_mode": {
        "name": "ipython",
        "version": 3
      },
      "file_extension": ".py",
      "mimetype": "text/x-python",
      "name": "python",
      "nbconvert_exporter": "python",
      "pygments_lexer": "ipython3",
      "version": "3.8.8"
    }
  },
  "nbformat": 4,
  "nbformat_minor": 5
}